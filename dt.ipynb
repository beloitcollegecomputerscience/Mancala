<!DOCTYPE html>

<html  dir="ltr" lang="en-us" xml:lang="en-us">
<head>
    <title>DSDA 345 01_SP-2021: Decision Tree Project Code</title>
    <link rel="shortcut icon" href="//moodle.beloit.edu/pluginfile.php/1/theme_fordson/favicon/1623178923/Beloit%20B%20outside_stroke.png" />
    <meta http-equiv="Content-Type" content="text/html; charset=utf-8" />
<meta name="keywords" content="moodle, DSDA 345 01_SP-2021: Decision Tree Project Code" />
<link rel="stylesheet" type="text/css" href="https://moodle.beloit.edu/theme/yui_combo.php?rollup/3.17.2/yui-moodlesimple-min.css" /><script id="firstthemesheet" type="text/css">/** Required in order to fix style inclusion problems in IE with YUI **/</script><link rel="stylesheet" type="text/css" href="https://moodle.beloit.edu/theme/styles.php/fordson/1623178923_1618863027/all" />
<script>
//<![CDATA[
var M = {}; M.yui = {};
M.pageloadstarttime = new Date();
M.cfg = {"wwwroot":"https:\/\/moodle.beloit.edu","sesskey":"L6DVncmyk0","sessiontimeout":"28800","themerev":"1623178923","slasharguments":1,"theme":"fordson","iconsystemmodule":"core\/icon_system_fontawesome","jsrev":"1623178923","admin":"admin","svgicons":true,"usertimezone":"America\/Chicago","contextid":48847,"langrev":1642804058,"templaterev":"1623178923"};var yui1ConfigFn = function(me) {if(/-skin|reset|fonts|grids|base/.test(me.name)){me.type='css';me.path=me.path.replace(/\.js/,'.css');me.path=me.path.replace(/\/yui2-skin/,'/assets/skins/sam/yui2-skin')}};
var yui2ConfigFn = function(me) {var parts=me.name.replace(/^moodle-/,'').split('-'),component=parts.shift(),module=parts[0],min='-min';if(/-(skin|core)$/.test(me.name)){parts.pop();me.type='css';min=''}
if(module){var filename=parts.join('-');me.path=component+'/'+module+'/'+filename+min+'.'+me.type}else{me.path=component+'/'+component+'.'+me.type}};
YUI_config = {"debug":false,"base":"https:\/\/moodle.beloit.edu\/lib\/yuilib\/3.17.2\/","comboBase":"https:\/\/moodle.beloit.edu\/theme\/yui_combo.php?","combine":true,"filter":null,"insertBefore":"firstthemesheet","groups":{"yui2":{"base":"https:\/\/moodle.beloit.edu\/lib\/yuilib\/2in3\/2.9.0\/build\/","comboBase":"https:\/\/moodle.beloit.edu\/theme\/yui_combo.php?","combine":true,"ext":false,"root":"2in3\/2.9.0\/build\/","patterns":{"yui2-":{"group":"yui2","configFn":yui1ConfigFn}}},"moodle":{"name":"moodle","base":"https:\/\/moodle.beloit.edu\/theme\/yui_combo.php?m\/1623178923\/","combine":true,"comboBase":"https:\/\/moodle.beloit.edu\/theme\/yui_combo.php?","ext":false,"root":"m\/1623178923\/","patterns":{"moodle-":{"group":"moodle","configFn":yui2ConfigFn}},"filter":null,"modules":{"moodle-core-actionmenu":{"requires":["base","event","node-event-simulate"]},"moodle-core-blocks":{"requires":["base","node","io","dom","dd","dd-scroll","moodle-core-dragdrop","moodle-core-notification"]},"moodle-core-chooserdialogue":{"requires":["base","panel","moodle-core-notification"]},"moodle-core-dragdrop":{"requires":["base","node","io","dom","dd","event-key","event-focus","moodle-core-notification"]},"moodle-core-event":{"requires":["event-custom"]},"moodle-core-formchangechecker":{"requires":["base","event-focus","moodle-core-event"]},"moodle-core-handlebars":{"condition":{"trigger":"handlebars","when":"after"}},"moodle-core-languninstallconfirm":{"requires":["base","node","moodle-core-notification-confirm","moodle-core-notification-alert"]},"moodle-core-lockscroll":{"requires":["plugin","base-build"]},"moodle-core-maintenancemodetimer":{"requires":["base","node"]},"moodle-core-notification":{"requires":["moodle-core-notification-dialogue","moodle-core-notification-alert","moodle-core-notification-confirm","moodle-core-notification-exception","moodle-core-notification-ajaxexception"]},"moodle-core-notification-dialogue":{"requires":["base","node","panel","escape","event-key","dd-plugin","moodle-core-widget-focusafterclose","moodle-core-lockscroll"]},"moodle-core-notification-alert":{"requires":["moodle-core-notification-dialogue"]},"moodle-core-notification-confirm":{"requires":["moodle-core-notification-dialogue"]},"moodle-core-notification-exception":{"requires":["moodle-core-notification-dialogue"]},"moodle-core-notification-ajaxexception":{"requires":["moodle-core-notification-dialogue"]},"moodle-core-popuphelp":{"requires":["moodle-core-tooltip"]},"moodle-core-tooltip":{"requires":["base","node","io-base","moodle-core-notification-dialogue","json-parse","widget-position","widget-position-align","event-outside","cache-base"]},"moodle-core_availability-form":{"requires":["base","node","event","event-delegate","panel","moodle-core-notification-dialogue","json"]},"moodle-backup-backupselectall":{"requires":["node","event","node-event-simulate","anim"]},"moodle-backup-confirmcancel":{"requires":["node","node-event-simulate","moodle-core-notification-confirm"]},"moodle-course-categoryexpander":{"requires":["node","event-key"]},"moodle-course-dragdrop":{"requires":["base","node","io","dom","dd","dd-scroll","moodle-core-dragdrop","moodle-core-notification","moodle-course-coursebase","moodle-course-util"]},"moodle-course-formatchooser":{"requires":["base","node","node-event-simulate"]},"moodle-course-management":{"requires":["base","node","io-base","moodle-core-notification-exception","json-parse","dd-constrain","dd-proxy","dd-drop","dd-delegate","node-event-delegate"]},"moodle-course-util":{"requires":["node"],"use":["moodle-course-util-base"],"submodules":{"moodle-course-util-base":{},"moodle-course-util-section":{"requires":["node","moodle-course-util-base"]},"moodle-course-util-cm":{"requires":["node","moodle-course-util-base"]}}},"moodle-form-dateselector":{"requires":["base","node","overlay","calendar"]},"moodle-form-passwordunmask":{"requires":[]},"moodle-form-shortforms":{"requires":["node","base","selector-css3","moodle-core-event"]},"moodle-question-chooser":{"requires":["moodle-core-chooserdialogue"]},"moodle-question-preview":{"requires":["base","dom","event-delegate","event-key","core_question_engine"]},"moodle-question-searchform":{"requires":["base","node"]},"moodle-availability_completion-form":{"requires":["base","node","event","moodle-core_availability-form"]},"moodle-availability_date-form":{"requires":["base","node","event","io","moodle-core_availability-form"]},"moodle-availability_grade-form":{"requires":["base","node","event","moodle-core_availability-form"]},"moodle-availability_group-form":{"requires":["base","node","event","moodle-core_availability-form"]},"moodle-availability_grouping-form":{"requires":["base","node","event","moodle-core_availability-form"]},"moodle-availability_profile-form":{"requires":["base","node","event","moodle-core_availability-form"]},"moodle-mod_assign-history":{"requires":["node","transition"]},"moodle-mod_attendance-groupfilter":{"requires":["base","node"]},"moodle-mod_quiz-autosave":{"requires":["base","node","event","event-valuechange","node-event-delegate","io-form"]},"moodle-mod_quiz-dragdrop":{"requires":["base","node","io","dom","dd","dd-scroll","moodle-core-dragdrop","moodle-core-notification","moodle-mod_quiz-quizbase","moodle-mod_quiz-util-base","moodle-mod_quiz-util-page","moodle-mod_quiz-util-slot","moodle-course-util"]},"moodle-mod_quiz-modform":{"requires":["base","node","event"]},"moodle-mod_quiz-questionchooser":{"requires":["moodle-core-chooserdialogue","moodle-mod_quiz-util","querystring-parse"]},"moodle-mod_quiz-quizbase":{"requires":["base","node"]},"moodle-mod_quiz-toolboxes":{"requires":["base","node","event","event-key","io","moodle-mod_quiz-quizbase","moodle-mod_quiz-util-slot","moodle-core-notification-ajaxexception"]},"moodle-mod_quiz-util":{"requires":["node","moodle-core-actionmenu"],"use":["moodle-mod_quiz-util-base"],"submodules":{"moodle-mod_quiz-util-base":{},"moodle-mod_quiz-util-slot":{"requires":["node","moodle-mod_quiz-util-base"]},"moodle-mod_quiz-util-page":{"requires":["node","moodle-mod_quiz-util-base"]}}},"moodle-message_airnotifier-toolboxes":{"requires":["base","node","io"]},"moodle-filter_glossary-autolinker":{"requires":["base","node","io-base","json-parse","event-delegate","overlay","moodle-core-event","moodle-core-notification-alert","moodle-core-notification-exception","moodle-core-notification-ajaxexception"]},"moodle-filter_mathjaxloader-loader":{"requires":["moodle-core-event"]},"moodle-editor_atto-editor":{"requires":["node","transition","io","overlay","escape","event","event-simulate","event-custom","node-event-html5","node-event-simulate","yui-throttle","moodle-core-notification-dialogue","moodle-core-notification-confirm","moodle-editor_atto-rangy","handlebars","timers","querystring-stringify"]},"moodle-editor_atto-plugin":{"requires":["node","base","escape","event","event-outside","handlebars","event-custom","timers","moodle-editor_atto-menu"]},"moodle-editor_atto-menu":{"requires":["moodle-core-notification-dialogue","node","event","event-custom"]},"moodle-editor_atto-rangy":{"requires":[]},"moodle-report_eventlist-eventfilter":{"requires":["base","event","node","node-event-delegate","datatable","autocomplete","autocomplete-filters"]},"moodle-report_loglive-fetchlogs":{"requires":["base","event","node","io","node-event-delegate"]},"moodle-gradereport_grader-gradereporttable":{"requires":["base","node","event","handlebars","overlay","event-hover"]},"moodle-gradereport_history-userselector":{"requires":["escape","event-delegate","event-key","handlebars","io-base","json-parse","moodle-core-notification-dialogue"]},"moodle-tool_capability-search":{"requires":["base","node"]},"moodle-tool_lp-dragdrop-reorder":{"requires":["moodle-core-dragdrop"]},"moodle-tool_monitor-dropdown":{"requires":["base","event","node"]},"moodle-assignfeedback_editpdf-editor":{"requires":["base","event","node","io","graphics","json","event-move","event-resize","transition","querystring-stringify-simple","moodle-core-notification-dialog","moodle-core-notification-alert","moodle-core-notification-warning","moodle-core-notification-exception","moodle-core-notification-ajaxexception"]},"moodle-atto_accessibilitychecker-button":{"requires":["color-base","moodle-editor_atto-plugin"]},"moodle-atto_accessibilityhelper-button":{"requires":["moodle-editor_atto-plugin"]},"moodle-atto_align-button":{"requires":["moodle-editor_atto-plugin"]},"moodle-atto_bold-button":{"requires":["moodle-editor_atto-plugin"]},"moodle-atto_charmap-button":{"requires":["moodle-editor_atto-plugin"]},"moodle-atto_clear-button":{"requires":["moodle-editor_atto-plugin"]},"moodle-atto_collapse-button":{"requires":["moodle-editor_atto-plugin"]},"moodle-atto_emojipicker-button":{"requires":["moodle-editor_atto-plugin"]},"moodle-atto_emoticon-button":{"requires":["moodle-editor_atto-plugin"]},"moodle-atto_equation-button":{"requires":["moodle-editor_atto-plugin","moodle-core-event","io","event-valuechange","tabview","array-extras"]},"moodle-atto_fontfamily-button":{"requires":["moodle-editor_atto-plugin"]},"moodle-atto_fullscreen-button":{"requires":["event-resize","moodle-editor_atto-plugin"]},"moodle-atto_h5p-button":{"requires":["moodle-editor_atto-plugin"]},"moodle-atto_hr-button":{"requires":["moodle-editor_atto-plugin"]},"moodle-atto_html-beautify":{},"moodle-atto_html-button":{"requires":["promise","moodle-editor_atto-plugin","moodle-atto_html-beautify","moodle-atto_html-codemirror","event-valuechange"]},"moodle-atto_html-codemirror":{"requires":["moodle-atto_html-codemirror-skin"]},"moodle-atto_htmlplus-beautify":{},"moodle-atto_htmlplus-button":{"requires":["moodle-editor_atto-plugin","moodle-atto_htmlplus-beautify","moodle-atto_htmlplus-codemirror","event-valuechange"]},"moodle-atto_htmlplus-codemirror":{"requires":["moodle-atto_htmlplus-codemirror-skin"]},"moodle-atto_image-button":{"requires":["moodle-editor_atto-plugin"]},"moodle-atto_indent-button":{"requires":["moodle-editor_atto-plugin"]},"moodle-atto_italic-button":{"requires":["moodle-editor_atto-plugin"]},"moodle-atto_link-button":{"requires":["moodle-editor_atto-plugin"]},"moodle-atto_managefiles-button":{"requires":["moodle-editor_atto-plugin"]},"moodle-atto_managefiles-usedfiles":{"requires":["node","escape"]},"moodle-atto_media-button":{"requires":["moodle-editor_atto-plugin","moodle-form-shortforms"]},"moodle-atto_noautolink-button":{"requires":["moodle-editor_atto-plugin"]},"moodle-atto_orderedlist-button":{"requires":["moodle-editor_atto-plugin"]},"moodle-atto_recordrtc-button":{"requires":["moodle-editor_atto-plugin","moodle-atto_recordrtc-recording"]},"moodle-atto_recordrtc-recording":{"requires":["moodle-atto_recordrtc-button"]},"moodle-atto_rtl-button":{"requires":["moodle-editor_atto-plugin"]},"moodle-atto_strike-button":{"requires":["moodle-editor_atto-plugin"]},"moodle-atto_subscript-button":{"requires":["moodle-editor_atto-plugin"]},"moodle-atto_superscript-button":{"requires":["moodle-editor_atto-plugin"]},"moodle-atto_table-button":{"requires":["moodle-editor_atto-plugin","moodle-editor_atto-menu","event","event-valuechange"]},"moodle-atto_title-button":{"requires":["moodle-editor_atto-plugin"]},"moodle-atto_underline-button":{"requires":["moodle-editor_atto-plugin"]},"moodle-atto_undo-button":{"requires":["moodle-editor_atto-plugin"]},"moodle-atto_unorderedlist-button":{"requires":["moodle-editor_atto-plugin"]},"moodle-atto_wordimport-button":{"requires":["moodle-editor_atto-plugin"]}}},"gallery":{"name":"gallery","base":"https:\/\/moodle.beloit.edu\/lib\/yuilib\/gallery\/","combine":true,"comboBase":"https:\/\/moodle.beloit.edu\/theme\/yui_combo.php?","ext":false,"root":"gallery\/1623178923\/","patterns":{"gallery-":{"group":"gallery"}}}},"modules":{"core_filepicker":{"name":"core_filepicker","fullpath":"https:\/\/moodle.beloit.edu\/lib\/javascript.php\/1623178923\/repository\/filepicker.js","requires":["base","node","node-event-simulate","json","async-queue","io-base","io-upload-iframe","io-form","yui2-treeview","panel","cookie","datatable","datatable-sort","resize-plugin","dd-plugin","escape","moodle-core_filepicker","moodle-core-notification-dialogue"]},"core_comment":{"name":"core_comment","fullpath":"https:\/\/moodle.beloit.edu\/lib\/javascript.php\/1623178923\/comment\/comment.js","requires":["base","io-base","node","json","yui2-animation","overlay","escape"]},"mathjax":{"name":"mathjax","fullpath":"https:\/\/cdn.jsdelivr.net\/npm\/mathjax@2.7.8\/MathJax.js?delayStartupUntil=configured"}}};
M.yui.loader = {modules: {}};

//]]>
</script>

<meta name="robots" content="noindex" />
    <meta name="viewport" content="width=device-width, initial-scale=1.0">
</head>
<body  id="page-mod-resource-view" class="format-weeks  path-mod path-mod-resource chrome dir-ltr lang-en_us yui-skin-sam yui3-skin-sam moodle-beloit-edu pagelayout-incourse course-643 context-48847 cmid-32586 category-28 drawer-open-left">

<div id="page-wrapper">

    <div>
    <a class="sr-only sr-only-focusable" href="#maincontent">Skip to main content</a>
</div><script src="https://moodle.beloit.edu/lib/javascript.php/1623178923/lib/babel-polyfill/polyfill.min.js"></script>
<script src="https://moodle.beloit.edu/lib/javascript.php/1623178923/lib/polyfills/polyfill.js"></script>
<script src="https://moodle.beloit.edu/theme/yui_combo.php?rollup/3.17.2/yui-moodlesimple-min.js"></script><script src="https://moodle.beloit.edu/theme/jquery.php/core/jquery-3.4.1.min.js"></script>
<script src="https://moodle.beloit.edu/lib/javascript.php/1623178923/lib/javascript-static.js"></script>
<script>
//<![CDATA[
document.body.className += ' jsenabled';
//]]>
</script>



    <nav class="fixed-top navbar navbar-fhs   navbar-expand moodle-has-zindex">
            <div data-region="drawer-toggle" class="d-inline-block mr-3">
                <button aria-expanded="true" aria-controls="nav-drawer" type="button" class="btn nav-link float-sm-left mr-1 btn-secondary" data-action="toggle-drawer" data-side="left" data-preference="drawer-open-nav"><i class="icon fa fa-bars fa-fw " aria-hidden="true"  ></i><span class="sr-only">Side panel</span></button>
            </div>
            <a href="https://moodle.beloit.edu" class="navbar-brand has-logo
                    ">
                    <span class="logo d-none d-sm-inline">
                        <img src="https://moodle.beloit.edu/pluginfile.php/1/core_admin/logocompact/300x300/1623178923/Beloit%20B%20Gold.png" alt="Beloit">
                    </span>
                <span class="site-name d-none d-md-inline">Beloit</span>
            </a>
            
            <!-- course_controls -->
            <div class="coursecontrols nav-item d-flex">
                <div class="teacherdash nav-item nav-link">
            <a role="button" data-tooltip="tooltip" data-placement= "bottom" title="Course Management" data-toggle="modal" href="#teacherdashslider" class="btn btn-secondary fhs-tooltip">  <i class="fa fa-cogs" aria-hidden="true"></i></a>
    </div>
                
            </div>
    
            <ul class="navbar-nav d-none d-md-flex">
                <!-- custom_menu -->
                <li class="dropdown nav-item">
    <a class="dropdown-toggle nav-link" id="drop-down-622974bf20e60622974bf1ce9211" data-toggle="dropdown" aria-haspopup="true" aria-expanded="false" href="#" title="My Courses" aria-controls="drop-down-menu-622974bf20e60622974bf1ce9211">
        My Courses
    </a>
    <div class="dropdown-menu" role="menu" id="drop-down-menu-622974bf20e60622974bf1ce9211" aria-labelledby="drop-down-622974bf20e60622974bf1ce9211">
                <a class="dropdown-item" role="menuitem" href="https://moodle.beloit.edu/my" title="Dashboard">Dashboard</a>
                <a class="dropdown-item" role="menuitem" href="https://moodle.beloit.edu/course/view.php?id=21" title="LITS Support Training">LITS Support Training</a>
                <a class="dropdown-item" role="menuitem" href="https://moodle.beloit.edu/course/view.php?id=26" title="Learner Orientation - v3.10">Learner Orientation - v3.10</a>
                <a class="dropdown-item" role="menuitem" href="https://moodle.beloit.edu/course/view.php?id=643" title="DSDA 345 01_SP-2021">DSDA 345 01_SP-2021 - Data Mining</a>
                <a class="dropdown-item" role="menuitem" href="https://moodle.beloit.edu/course/view.php?id=903" title="MUSI 170 01_SP-2021">MUSI 170 01_SP-2021 - Music, Sound, and Theory (1S,C)</a>
                <a class="dropdown-item" role="menuitem" href="https://moodle.beloit.edu/course/view.php?id=939" title="CSCI 377 01_SP-2021">CSCI 377 01_SP-2021 - Software Engineering Capstone (CP)</a>
                <a class="dropdown-item" role="menuitem" href="https://moodle.beloit.edu/course/view.php?id=852" title="PHYS 335 01_SP-2021">PHYS 335 01_SP-2021 - Computational Physics</a>
    </div>
</li>
                
                <!-- page_heading_menu -->
                
            </ul>
            <ul class="nav navbar-nav ml-auto">
                <div class="d-none d-lg-block">
                
            </div>
                <!-- navbar_plugin_output -->
                <li class="nav-item">
                <div class="popover-region collapsed popover-region-notifications"
    id="nav-notification-popover-container" data-userid="1250"
    data-region="popover-region">
    <div class="popover-region-toggle nav-link icon-no-margin"
        data-region="popover-region-toggle"
        role="button"
        aria-controls="popover-region-container-622974bf241c0622974bf1ce9212"
        aria-haspopup="true"
        aria-label="Show notification window with no new notifications"
        tabindex="0">
                <i class="icon fa fa-bell fa-fw "  title="Toggle notifications menu" aria-label="Toggle notifications menu"></i>
        <div class="count-container hidden" data-region="count-container"
        aria-label="There are 0 unread notifications">0</div>

    </div>
    <div 
        id="popover-region-container-622974bf241c0622974bf1ce9212"
        class="popover-region-container"
        data-region="popover-region-container"
        aria-expanded="false"
        aria-hidden="true"
        aria-label="Notification window"
        role="region">
        <div class="popover-region-header-container">
            <h3 class="popover-region-header-text" data-region="popover-region-header-text">Notifications</h3>
            <div class="popover-region-header-actions" data-region="popover-region-header-actions">        <a class="mark-all-read-button"
           href="#"
           title="Mark all as read"
           data-action="mark-all-read"
           role="button"
           aria-label="Mark all as read">
            <span class="normal-icon"><i class="icon fa fa-check fa-fw " aria-hidden="true"  ></i></span>
            <span class="loading-icon icon-no-margin"><i class="icon fa fa-circle-o-notch fa-spin fa-fw "  title="Loading" aria-label="Loading"></i></span>
        </a>
        <a href="https://moodle.beloit.edu/message/notificationpreferences.php?userid=1250"
           title="Notification preferences"
           aria-label="Notification preferences">
            <i class="icon fa fa-cog fa-fw " aria-hidden="true"  ></i>
        </a>
</div>
        </div>
        <div class="popover-region-content-container" data-region="popover-region-content-container">
            <div class="popover-region-content" data-region="popover-region-content">
                        <div class="all-notifications"
            data-region="all-notifications"
            role="log"
            aria-busy="false"
            aria-atomic="false"
            aria-relevant="additions"></div>
        <div class="empty-message" tabindex="0" data-region="empty-message">You have no notifications</div>

            </div>
            <span class="loading-icon icon-no-margin"><i class="icon fa fa-circle-o-notch fa-spin fa-fw "  title="Loading" aria-label="Loading"></i></span>
        </div>
                <a class="see-all-link"
                    href="https://moodle.beloit.edu/message/output/popup/notifications.php">
                    <div class="popover-region-footer-container">
                        <div class="popover-region-seeall-text">See all</div>
                    </div>
                </a>
    </div>
</div><div class="popover-region collapsed" data-region="popover-region-messages">
    <a id="message-drawer-toggle-622974bf252ed622974bf1ce9213" class="nav-link d-inline-block popover-region-toggle position-relative icon-no-margin" href="#"
            role="button">
        <i class="icon fa fa-comment fa-fw "  title="Toggle messaging drawer" aria-label="Toggle messaging drawer"></i>
        <div class="count-container " data-region="count-container"
        aria-label="There are 1 unread conversations">1</div>
    </a>
    <span class="sr-only sr-only-focusable" data-region="jumpto" tabindex="-1"></span></div>
                </li>
                <!-- user_menu -->
                <li class="nav-item d-flex align-items-center">
                    <div class="usermenu"><div class="action-menu moodle-actionmenu nowrap-items d-inline" id="action-menu-1" data-enhance="moodle-core-actionmenu">

        <div class="menubar d-flex " id="action-menu-1-menubar" role="menubar">

            


                <div class="action-menu-trigger">
                    <div class="dropdown">
                        <a href="#" tabindex="0" class="d-inline-block  dropdown-toggle icon-no-margin" id="action-menu-toggle-1" aria-label="User menu" data-toggle="dropdown" role="button" aria-haspopup="true" aria-expanded="false" aria-controls="action-menu-1-menu">
                            
                            <span class="userbutton"><span class="usertext mr-1">Bipin Gc</span><span class="avatars"><span class="avatar current"><img src="https://moodle.beloit.edu/theme/image.php/fordson/core/1623178923/u/f2" class="userpicture defaultuserpic" width="35" height="35" aria-hidden="true" /></span></span></span>
                                
                            <b class="caret"></b>
                        </a>
                            <div class="dropdown-menu dropdown-menu-right menu  align-tr-br" id="action-menu-1-menu" data-rel="menu-content" aria-labelledby="action-menu-toggle-1" role="menu" data-align="tr-br">
                                                                <a href="https://moodle.beloit.edu/my/" class="dropdown-item menu-action" role="menuitem" data-title="mymoodle,admin" aria-labelledby="actionmenuaction-1">
                                <i class="icon fa fa-tachometer fa-fw " aria-hidden="true"  ></i>
                                <span class="menu-action-text" id="actionmenuaction-1">Dashboard</span>
                        </a>
                    <div class="dropdown-divider" role="presentation"><span class="filler">&nbsp;</span></div>
                                                                <a href="https://moodle.beloit.edu/user/profile.php?id=1250" class="dropdown-item menu-action" role="menuitem" data-title="profile,moodle" aria-labelledby="actionmenuaction-2">
                                <i class="icon fa fa-user fa-fw " aria-hidden="true"  ></i>
                                <span class="menu-action-text" id="actionmenuaction-2">Profile</span>
                        </a>
                                                                <a href="https://moodle.beloit.edu/grade/report/overview/index.php" class="dropdown-item menu-action" role="menuitem" data-title="grades,grades" aria-labelledby="actionmenuaction-3">
                                <i class="icon fa fa-table fa-fw " aria-hidden="true"  ></i>
                                <span class="menu-action-text" id="actionmenuaction-3">Grades</span>
                        </a>
                                                                <a href="https://moodle.beloit.edu/message/index.php" class="dropdown-item menu-action" role="menuitem" data-title="messages,message" aria-labelledby="actionmenuaction-4">
                                <i class="icon fa fa-comment fa-fw " aria-hidden="true"  ></i>
                                <span class="menu-action-text" id="actionmenuaction-4">Messages</span>
                        </a>
                                                                <a href="https://moodle.beloit.edu/user/preferences.php" class="dropdown-item menu-action" role="menuitem" data-title="preferences,moodle" aria-labelledby="actionmenuaction-5">
                                <i class="icon fa fa-wrench fa-fw " aria-hidden="true"  ></i>
                                <span class="menu-action-text" id="actionmenuaction-5">Preferences</span>
                        </a>
                                                                <a href="https://moodle.beloit.edu/login/logout.php?sesskey=L6DVncmyk0" class="dropdown-item menu-action" role="menuitem" data-title="logout,moodle" aria-labelledby="actionmenuaction-6">
                                <i class="icon fa fa-sign-out fa-fw " aria-hidden="true"  ></i>
                                <span class="menu-action-text" id="actionmenuaction-6">Log out</span>
                        </a>
                    <div class="dropdown-divider" role="presentation"><span class="filler">&nbsp;</span></div>
                                                                <a href="https://moodle.beloit.edu/course/switchrole.php?id=643&amp;switchrole=-1&amp;returnurl=%2Fmod%2Fresource%2Fview.php%3Fid%3D32586" class="dropdown-item menu-action" role="menuitem" data-title="switchroleto,moodle" aria-labelledby="actionmenuaction-7">
                                <i class="icon fa fa-user-secret fa-fw " aria-hidden="true"  ></i>
                                <span class="menu-action-text" id="actionmenuaction-7">Switch role to...</span>
                        </a>
                            </div>
                    </div>
                </div>

        </div>

</div></div>
                </li>
            </ul>
            <!-- search_box -->
    </nav>
    

        <div class="headerbkg"><div class="customimage" style="background-image: url(&quot;//moodle.beloit.edu/pluginfile.php/1/theme_fordson/headerdefaultimage/1623178923/Copy%20of%20JOHNSON_20131026_863%281%29.jpg&quot;); background-size: cover; background-position:center;
                width: 100%; height: 100%;"></div></div>

    <div id="page" class="container-fluid">
        
        <div id="learningcontent">
        
            <div class="modal fade" id="teacherdashslider" tabindex="-1" role="dialog" aria-labelledby="teacherdashslider" aria-hidden="true">
  <div class="modal-dialog" role="document">

    <div class="modal-content">
    <div class="modal-body">

        <button type="button" class="close" data-dismiss="modal" aria-label="Close">
              <span aria-hidden="true">&times;</span>
        </button>

        <div class="teacherdashboard">
        <div class="container-fluid">
            <div class="editcogbutton"><div class="pull-xs-right context-header-settings-menu"></div></div>
                <div class="coursemanagementmessage"></div>

                <div class="row">
                <div class="col-md-3 activities">
                    <div class="dashtitle">
                        <h3 class="card-title"><i class="fa fa-check-square-o dashicon"></i>Activities</h3>
                        <p>View All Activities in Course</p>
                    </div>
                    <div class="list-group">
                    <div class="list-group" aria-labelledby="list-group-622974bf27013622974bf1ce9223">
        <a href="https://moodle.beloit.edu/mod/assign/index.php?id=643"class="list-group-item" >Assignments</a>
        <a href="https://moodle.beloit.edu/mod/forum/index.php?id=643"class="list-group-item" >Forums</a>
        <a href="https://moodle.beloit.edu/mod/quiz/index.php?id=643"class="list-group-item" >Quizzes</a>
        <a href="https://moodle.beloit.edu/course/resources.php?id=643"class="list-group-item" >Resources</a>
 </div>
                    </div>
                </div>

                <div class="col-md-3 questionlinks">
                    <div class="dashtitle">
                        <h3><i class="fa fa-question-circle dashicon"></i>Question Bank</h3>
                        <p>Create and organize quiz questions</p>
                    </div>
                    <div class="list-group">
                            <a href="https://moodle.beloit.edu/question/edit.php?courseid=643" class="list-group-item">Question bank</a>
                            <a href="https://moodle.beloit.edu/question/category.php?courseid=643" class="list-group-item">Question category</a>
                            <a href="https://moodle.beloit.edu/question/import.php?courseid=643" class="list-group-item">Import</a>
                            <a href="https://moodle.beloit.edu/question/export.php?courseid=643" class="list-group-item">Export</a>
                    </div>
                    <div class="dashtitle">
                        <h3><i class="fa fa-trophy dashicon"></i>Badges</h3>
                        <p>Award your students</p>
                    </div>
                    <div class="list-group">
                            <a href="https://moodle.beloit.edu/badges/index.php?type=2&amp;id=643" class="list-group-item">Manage badges</a>
                            <a href="https://moodle.beloit.edu/badges/newbadge.php?type=2&amp;id=643" class="list-group-item">Add a new badge</a>
                    </div>
                </div>

                <div class="col-md-3 coursemanagelinks">
                    <div class="dashtitle">
                        <h3><i class="fa fa-cogs dashicon"></i>Course Settings</h3>
                        <p>Manage your entire course</p>
                    </div>
                    <div class="list-group">
                            <a href="https://moodle.beloit.edu/course/edit.php?id=643" class="list-group-item">Edit course settings</a>
                            <a href="https://moodle.beloit.edu/grade/edit/tree/index.php?id=643" class="list-group-item">Gradebook setup</a>
                            <a href="https://moodle.beloit.edu/course/completion.php?id=643" class="list-group-item">Edit course completion settings</a>
                            <a href="https://moodle.beloit.edu/admin/tool/lp/coursecompetencies.php?courseid=643" class="list-group-item">Competencies</a>
                            <a href="https://moodle.beloit.edu/course/admin.php?courseid=643" class="list-group-item">Course administration</a>
                            <a href="https://moodle.beloit.edu/backup/copy.php?id=643" class="list-group-item">Copy course</a>
                            <a href="https://moodle.beloit.edu/course/reset.php?id=643" class="list-group-item">Reset</a>
                            <a href="https://moodle.beloit.edu/backup/backup.php?id=643" class="list-group-item">Backup</a>
                            <a href="https://moodle.beloit.edu/backup/restorefile.php?contextid=48847" class="list-group-item">Restore</a>
                            <a href="https://moodle.beloit.edu/backup/import.php?id=643" class="list-group-item">Import</a>
                            <a href="https://moodle.beloit.edu/admin/tool/recyclebin/index.php?contextid=48847" class="list-group-item">Recycle bin</a>
                            <a href="https://moodle.beloit.edu/filter/manage.php?contextid=48847" class="list-group-item">Filter settings</a>
                            <a href="https://moodle.beloit.edu/admin/tool/monitor/managerules.php?courseid=643" class="list-group-item">Event monitoring</a>
                    </div>
                </div>

                <div class="col-md-3 userlinks">
                    <div class="dashtitle">
                        <h3><i class="fa fa-users dashicon"></i>User Links</h3>
                        <p>Manage your students</p>
                    </div>
                    <div class="list-group">
                            <a href="https://moodle.beloit.edu/grade/report/grader/index.php?id=643" class="list-group-item">Gradebook</a>
                            <a href="https://moodle.beloit.edu/user/index.php?id=643" class="list-group-item">Participants</a>
                            <a href="https://moodle.beloit.edu/group/index.php?id=643" class="list-group-item">Groups</a>
                            <a href="https://moodle.beloit.edu/enrol/instances.php?id=643" class="list-group-item">Enrollment methods</a>
                            <a href="https://moodle.beloit.edu/report/progress/index.php?course=643" class="list-group-item">Activity completion</a>
                            <a href="https://moodle.beloit.edu/report/completion/index.php?course=643" class="list-group-item">Course completion</a>
                            <a href="https://moodle.beloit.edu/report/log/index.php?id=643" class="list-group-item">Logs</a>
                            <a href="https://moodle.beloit.edu/report/loglive/index.php?id=643" class="list-group-item">View live logs</a>
                            <a href="https://moodle.beloit.edu/report/participation/index.php?id=643" class="list-group-item">View course participation report</a>
                            <a href="https://moodle.beloit.edu/report/outline/index.php?id=643" class="list-group-item">View activity report</a>
                    </div>
                </div>
            </div>

        </div>
        </div>

    </div>
    </div>

</div>
</div>



<div style="clear:both;"></div>
            <div class="collapse" id="blockslider" class="slidingblockpanel">
                    <div class="fp-blocks">
                        <div class="container-fluid">
                            <div class="row">
                                <div class="col-md-4">
                                        <section data-region="blocks-fpa" class="hidden-print">
                                            <aside id="block-region-fp-a" class="block-region" data-blockregion="fp-a" data-droptarget="1"><a href="#sb-1" class="sr-only sr-only-focusable">Skip Quickmail</a>

<section id="inst150"
     class=" block_quickmail block list_block  card mb-3"
     role="complementary"
     data-block="quickmail"
          aria-labelledby="instance-150-header"
     >

    <div class="card-body p-3">

            <h5 id="instance-150-header" class="card-title d-inline">Quickmail</h5>


        <div class="card-text content mt-3">
            <ul class="unlist"><li class="r0"><div class="column c1"><a href="https://moodle.beloit.edu/blocks/quickmail/compose.php?courseid=643"><i class="icon fa fa-envelope-o fa-fw icon"  title="Compose Course Message" aria-label="Compose Course Message"></i>Compose Course Message</a></div></li>
<li class="r1"><div class="column c1"><a href="https://moodle.beloit.edu/blocks/quickmail/drafts.php?courseid=643"><i class="icon fa fa-sticky-note fa-fw icon"  title="View Drafts" aria-label="View Drafts"></i>View Drafts</a></div></li>
<li class="r0"><div class="column c1"><a href="https://moodle.beloit.edu/blocks/quickmail/queued.php?courseid=643"><i class="icon fa fa-calendar-check-o fa-fw icon"  title="View Scheduled" aria-label="View Scheduled"></i>View Scheduled</a></div></li>
<li class="r1"><div class="column c1"><a href="https://moodle.beloit.edu/blocks/quickmail/sent.php?courseid=643"><i class="icon fa fa-comment fa-fw icon"  title="View Sent Messages" aria-label="View Sent Messages"></i>View Sent Messages</a></div></li>
<li class="r0"><div class="column c1"><a href="https://moodle.beloit.edu/blocks/quickmail/signatures.php?courseid=643"><i class="icon fa fa-pencil fa-fw icon"  title="My Signatures" aria-label="My Signatures"></i>My Signatures</a></div></li>
<li class="r1"><div class="column c1"><a href="https://moodle.beloit.edu/blocks/quickmail/alternate.php?courseid=643"><i class="icon fa fa-plus fa-fw icon"  title="Alternate Emails" aria-label="Alternate Emails"></i>Alternate Emails</a></div></li>
<li class="r0"><div class="column c1"><a href="https://moodle.beloit.edu/blocks/quickmail/configuration.php?courseid=643"><i class="icon fa fa-cog fa-fw icon"  title="Configuration" aria-label="Configuration"></i>Configuration</a></div></li></ul>
            <div class="footer"></div>
            
        </div>

    </div>

</section>

  <span id="sb-1"></span></aside>
                                        </section>
                                </div>
                                <div class="col-md-4">
                                        <section data-region="blocks-fpb" class="hidden-print">
                                            <aside id="block-region-fp-b" class="block-region" data-blockregion="fp-b" data-droptarget="1"></aside>
                                        </section>
                                </div>
                                <div class="col-md-4">
                                        <section data-region="blocks-fpc" class="hidden-print">
                                            <aside id="block-region-fp-c" class="block-region" data-blockregion="fp-c" data-droptarget="1"></aside>
                                        </section>
                                </div>
                            </div>
                        </div>
            
                    </div>
                    <button id="blocksliderbuttonclose" class="btn btn-primary blockpanelbutton" type="button" data-toggle="collapse" data-target="#blockslider" aria-expanded="true" aria-controls="blockslider">
                        <i class="fa fa-times-circle" aria-hidden="true"> </i> <span class="blockbtntext">Close</span>
                    </button>
            </div>
            
            <div class="text-right blockpanelbtn">
            <button id="blocksliderbutton" class="btn btn-primary blockpanelbutton" type="button" data-toggle="collapse" data-target="#blockslider" aria-expanded="false" aria-controls="blockslider">
                <i class="fa fa-arrows-v" aria-hidden="true"> </i> <span class="blockbtntext">Course Blocks</span>
              </button>
            </div>
            
            <header id="page-header" class="row">
    <div class="col-12 pt-3 pb-3">
        <div class="card ">
            <div class="card-body ">
                <div class="d-flex">
                    <div class="mr-auto">
                        <a href="https://moodle.beloit.edu/course/view.php?id=643"><div class="page-context-header"><div class="page-header-headings"><h1>DSDA 345 01_SP-2021 - Data Mining</h1></div></div></a>
                    </div>

                    <div class="header-actions-container flex-shrink-0" data-region="header-actions-container">
                    </div>
                </div>
                <div class="d-flex flex-wrap">
                    <div id="page-navbar">
                        <nav role="navigation" aria-label="Navigation bar">
    <ul class="breadcrumb">
                <li class="breadcrumb-item">
                    <a href="https://moodle.beloit.edu/my/"  >Dashboard</a>
                </li>
                <li class="breadcrumb-item">My courses</li>
                <li class="breadcrumb-item">
                    <a href="https://moodle.beloit.edu/course/view.php?id=643"  title="DSDA 345 01_SP-2021 - Data Mining">DSDA 345 01_SP-2021</a>
                </li>
                <li class="breadcrumb-item">
                    <a href="https://moodle.beloit.edu/course/view.php?id=643#section-5"  >February 21 - February 27</a>
                </li>
                <li class="breadcrumb-item">
                    <a href="https://moodle.beloit.edu/mod/resource/view.php?id=32586" aria-current="page" title="File">Decision Tree Project Code</a>
                </li>
    </ul>
</nav>
                    </div>

                    <div class="ml-auto d-flex">
                        
                    </div>
                    <div id="course-header">
                        
                    </div>
                </div>
            </div>
        </div>
    </div>
</header>
            
            <div id="page-content" class="row pb-3">
                <div id="region-main-box" class="col-12">
                    <div id="region-main-settings-menu" class="d-print-none ">
                        <div> <div class="action-menu moodle-actionmenu d-inline" id="action-menu-4" data-enhance="moodle-core-actionmenu">

        <div class="menubar d-flex " id="action-menu-4-menubar" role="menubar">

            


                <div class="action-menu-trigger">
                    <div class="dropdown">
                        <a href="#" tabindex="0" class="d-inline-block  dropdown-toggle icon-no-margin" id="action-menu-toggle-4" aria-label="Actions menu" data-toggle="dropdown" role="button" aria-haspopup="true" aria-expanded="false" aria-controls="action-menu-4-menu">
                            
                            
<i class="icon fa fa-cog fa-fw "  title="Actions menu" aria-label="Actions menu"></i>                                
                        </a>
                            <div class="dropdown-menu dropdown-menu-right menu align-tr-br" id="action-menu-4-menu" data-rel="menu-content" aria-labelledby="action-menu-toggle-4" role="menu" data-align="tr-br">
                                            <div class="dropdown-item">

    <a href="https://moodle.beloit.edu/course/modedit.php?update=32586&return=1" id="action_link622974bf1ce9224" class=""  role="menuitem" ><i class="icon fa fa-fw fa-fw " aria-hidden="true"  ></i>Edit settings</a>



</div>
                                            <div class="dropdown-item">

    <a href="https://moodle.beloit.edu/admin/roles/assign.php?contextid=48847" id="action_link622974bf1ce9225" class=""  role="menuitem" ><i class="icon fa fa-fw fa-fw " aria-hidden="true"  ></i>Locally assigned roles</a>



</div>
                                            <div class="dropdown-item">

    <a href="https://moodle.beloit.edu/admin/roles/permissions.php?contextid=48847" id="action_link622974bf1ce9226" class=""  role="menuitem" ><i class="icon fa fa-fw fa-fw " aria-hidden="true"  ></i>Permissions</a>



</div>
                                            <div class="dropdown-item">

    <a href="https://moodle.beloit.edu/admin/roles/check.php?contextid=48847" id="action_link622974bf1ce9227" class=""  role="menuitem" ><i class="icon fa fa-fw fa-fw " aria-hidden="true"  ></i>Check permissions</a>



</div>
                                            <div class="dropdown-item">

    <a href="https://moodle.beloit.edu/filter/manage.php?contextid=48847" id="action_link622974bf1ce9228" class=""  role="menuitem" ><i class="icon fa fa-fw fa-fw " aria-hidden="true"  ></i>Filters</a>



</div>
                                            <div class="dropdown-item">

    <a href="https://moodle.beloit.edu/report/competency/index.php?id=643&mod=32586" id="action_link622974bf1ce9229" class=""  role="menuitem" ><i class="icon fa fa-fw fa-fw " aria-hidden="true"  ></i>Competency breakdown</a>



</div>
                                            <div class="dropdown-item">

    <a href="https://moodle.beloit.edu/report/log/index.php?chooselog=1&id=643&modid=32586" id="action_link622974bf1ce9230" class=""  role="menuitem" ><i class="icon fa fa-fw fa-fw " aria-hidden="true"  ></i>Logs</a>



</div>
                                            <div class="dropdown-item">

    <a href="https://moodle.beloit.edu/backup/backup.php?id=643&cm=32586" id="action_link622974bf1ce9231" class=""  role="menuitem" ><i class="icon fa fa-fw fa-fw " aria-hidden="true"  ></i>Backup</a>



</div>
                                            <div class="dropdown-item">

    <a href="https://moodle.beloit.edu/backup/restorefile.php?contextid=48847" id="action_link622974bf1ce9232" class=""  role="menuitem" ><i class="icon fa fa-fw fa-fw " aria-hidden="true"  ></i>Restore</a>



</div>
                            </div>
                    </div>
                </div>

        </div>

</div> </div>
                    </div>
                    <section id="region-main" >

                                    <div class="region_main_settings_menu_proxy"></div>
                                
                                <span class="notifications" id="user-notifications"></span>
                                <div role="main"><span id="maincontent"></span><h2>Decision Tree Project Code</h2><div class="resourceworkaround">Click <a href="https://moodle.beloit.edu/pluginfile.php/48847/mod_resource/content/1/Decision%20Tree%20Example.ipynb" onclick="this.target='_blank'">Decision Tree Example.ipynb</a> link to view the file.</div></div>
                                

                    </section>
                </div>
            </div>
        </div>
    </div>

    <div
    id="drawer-622974bf2c39a622974bf1ce9233"
    class=" drawer bg-white hidden"
    aria-expanded="false"
    aria-hidden="true"
    data-region="right-hand-drawer"
    role="region"
    tabindex="0"
>
            <div id="message-drawer-622974bf2c39a622974bf1ce9233" class="message-app" data-region="message-drawer" role="region">
            <div class="closewidget bg-light border-bottom text-right">
                <a class="text-dark" data-action="closedrawer" href="#">
                     <i class="icon fa fa-window-close fa-fw "  title="Close" aria-label="Close"></i>
                </a>
            </div>
            <div class="header-container position-relative" data-region="header-container">
                <div class="hidden border-bottom px-2 py-3" aria-hidden="true" data-region="view-contacts">
                    <div class="d-flex align-items-center">
                        <div class="align-self-stretch">
                            <a class="h-100 d-flex align-items-center mr-2" href="#" data-route-back role="button">
                                <div class="icon-back-in-drawer">
                                    <span class="dir-rtl-hide"><i class="icon fa fa-chevron-left fa-fw " aria-hidden="true"  ></i></span>
                                    <span class="dir-ltr-hide"><i class="icon fa fa-chevron-right fa-fw " aria-hidden="true"  ></i></span>
                                </div>
                                <div class="icon-back-in-app">
                                    <span class="dir-rtl-hide"><i class="icon fa fa-times fa-fw " aria-hidden="true"  ></i></span>
                                </div>                            </a>
                        </div>
                        <div>
                            Contacts
                        </div>
                        <div class="ml-auto">
                            <a href="#" data-route="view-search" role="button" aria-label="Search">
                                <i class="icon fa fa-search fa-fw " aria-hidden="true"  ></i>
                            </a>
                        </div>
                    </div>
                </div>                
                <div
                    class="hidden bg-white position-relative border-bottom p-1 p-sm-2"
                    aria-hidden="true"
                    data-region="view-conversation"
                >
                    <div class="hidden" data-region="header-content"></div>
                    <div class="hidden" data-region="header-edit-mode">
                        
                        <div class="d-flex p-2 align-items-center">
                            Messages selected:
                            <span class="ml-1" data-region="message-selected-court">1</span>
                            <button type="button" class="ml-auto close" aria-label="Cancel message selection"
                                data-action="cancel-edit-mode">
                                    <span aria-hidden="true">&times;</span>
                            </button>
                        </div>
                    </div>
                    <div data-region="header-placeholder">
                        <div class="d-flex">
                            <div
                                class="ml-2 rounded-circle bg-pulse-grey align-self-center"
                                style="height: 38px; width: 38px"
                            >
                            </div>
                            <div class="ml-2 " style="flex: 1">
                                <div
                                    class="mt-1 bg-pulse-grey w-75"
                                    style="height: 16px;"
                                >
                                </div>
                            </div>
                            <div
                                class="ml-2 bg-pulse-grey align-self-center"
                                style="height: 16px; width: 20px"
                            >
                            </div>
                        </div>
                    </div>
                    <div
                        class="hidden position-absolute"
                        data-region="confirm-dialogue-container"
                        style="top: 0; bottom: -1px; right: 0; left: 0; background: rgba(0,0,0,0.3);"
                    ></div>
                </div>                <div class="border-bottom  p-1 px-sm-2 py-sm-3" aria-hidden="false"  data-region="view-overview">
                    <div class="d-flex align-items-center">
                        <div class="input-group simplesearchform">
                            <input
                                type="text"
                                class="form-control"
                                placeholder="Search"
                                aria-label="Search"
                                data-region="view-overview-search-input"
                            >
                            <div class="input-group-append">
                                <span class="icon-no-margin btn btn-submit">
                                    <i class="icon fa fa-search fa-fw " aria-hidden="true"  ></i>
                                </span>
                            </div>
                        </div>
                        <div class="ml-2">
                            <a
                                href="#"
                                data-route="view-settings"
                                data-route-param="1250"
                                aria-label="Settings"
                                role="button"
                            >
                                <i class="icon fa fa-cog fa-fw " aria-hidden="true"  ></i>
                            </a>
                        </div>
                    </div>
                    <div class="text-right mt-sm-3">
                        <a href="#" data-route="view-contacts" role="button">
                            <i class="icon fa fa-user fa-fw " aria-hidden="true"  ></i>
                            Contacts
                            <span class="badge badge-primary bg-primary ml-2 hidden"
                            data-region="contact-request-count"
                            aria-label="There are 0 pending contact requests">
                                0
                            </span>
                        </a>
                    </div>
                </div>
                
                <div class="hidden border-bottom px-2 py-3 view-search"  aria-hidden="true" data-region="view-search">
                    <div class="d-flex align-items-center">
                        <a
                            class="mr-2 align-self-stretch d-flex align-items-center"
                            href="#"
                            data-route-back
                            data-action="cancel-search"
                            role="button"
                        >
                            <div class="icon-back-in-drawer">
                                <span class="dir-rtl-hide"><i class="icon fa fa-chevron-left fa-fw " aria-hidden="true"  ></i></span>
                                <span class="dir-ltr-hide"><i class="icon fa fa-chevron-right fa-fw " aria-hidden="true"  ></i></span>
                            </div>
                            <div class="icon-back-in-app">
                                <span class="dir-rtl-hide"><i class="icon fa fa-times fa-fw " aria-hidden="true"  ></i></span>
                            </div>                        </a>
                        <div class="input-group simplesearchform">
                            <input
                                type="text"
                                class="form-control"
                                placeholder="Search"
                                aria-label="Search"
                                data-region="search-input"
                            >
                            <div class="input-group-append">
                                <button
                                    class="btn btn-submit icon-no-margin"
                                    type="button"
                                    data-action="search"
                                    aria-label="Search"
                                >
                                    <span data-region="search-icon-container">
                                        <i class="icon fa fa-search fa-fw " aria-hidden="true"  ></i>
                                    </span>
                                    <span class="hidden" data-region="loading-icon-container">
                                        <span class="loading-icon icon-no-margin"><i class="icon fa fa-circle-o-notch fa-spin fa-fw "  title="Loading" aria-label="Loading"></i></span>
                                    </span>
                                </button>
                            </div>
                        </div>
                    </div>
                </div>                
                <div class="hidden border-bottom px-2 py-3" aria-hidden="true" data-region="view-settings">
                    <div class="d-flex align-items-center">
                        <div class="align-self-stretch" >
                            <a class="h-100 d-flex mr-2 align-items-center" href="#" data-route-back role="button">
                                <div class="icon-back-in-drawer">
                                    <span class="dir-rtl-hide"><i class="icon fa fa-chevron-left fa-fw " aria-hidden="true"  ></i></span>
                                    <span class="dir-ltr-hide"><i class="icon fa fa-chevron-right fa-fw " aria-hidden="true"  ></i></span>
                                </div>
                                <div class="icon-back-in-app">
                                    <span class="dir-rtl-hide"><i class="icon fa fa-times fa-fw " aria-hidden="true"  ></i></span>
                                </div>                            </a>
                        </div>
                        <div>
                            Settings
                        </div>
                    </div>
                </div>
            </div>
            <div class="body-container position-relative" data-region="body-container">
                
                <div
                    class="hidden"
                    data-region="view-contact"
                    aria-hidden="true"
                >
                    <div class="p-2 pt-3" data-region="content-container"></div>
                </div>                <div class="hidden h-100" data-region="view-contacts" aria-hidden="true" data-user-id="1250">
                    <div class="d-flex flex-column h-100">
                        <div class="p-3 border-bottom">
                            <ul class="nav nav-pills nav-fill" role="tablist">
                                <li class="nav-item">
                                    <a
                                        id="contacts-tab-622974bf2c39a622974bf1ce9233"
                                        class="nav-link active"
                                        href="#contacts-tab-panel-622974bf2c39a622974bf1ce9233"
                                        data-toggle="tab"
                                        data-action="show-contacts-section"
                                        role="tab"
                                        aria-controls="contacts-tab-panel-622974bf2c39a622974bf1ce9233"
                                        aria-selected="true"
                                    >
                                        Contacts
                                    </a>
                                </li>
                                <li class="nav-item">
                                    <a
                                        id="requests-tab-622974bf2c39a622974bf1ce9233"
                                        class="nav-link"
                                        href="#requests-tab-panel-622974bf2c39a622974bf1ce9233"
                                        data-toggle="tab"
                                        data-action="show-requests-section"
                                        role="tab"
                                        aria-controls="requests-tab-panel-622974bf2c39a622974bf1ce9233"
                                        aria-selected="false"
                                    >
                                        Requests
                                        <span class="badge badge-primary bg-primary ml-2 hidden"
                                        data-region="contact-request-count"
                                        aria-label="There are 0 pending contact requests">
                                            0
                                        </span>
                                    </a>
                                </li>
                            </ul>
                        </div>
                        <div class="tab-content d-flex flex-column h-100">
                                            <div
                    class="tab-pane fade show active h-100 lazy-load-list"
                    aria-live="polite"
                    data-region="lazy-load-list"
                    data-user-id="1250"
                                        id="contacts-tab-panel-622974bf2c39a622974bf1ce9233"
                    data-section="contacts"
                    role="tabpanel"
                    aria-labelledby="contacts-tab-622974bf2c39a622974bf1ce9233"

                >
                    
                    <div class="hidden text-center p-2" data-region="empty-message-container">
                        No contacts
                    </div>
                    <div class="hidden list-group" data-region="content-container">
                        
                    </div>
                    <div class="list-group" data-region="placeholder-container">
                        
                    </div>
                    <div class="w-100 text-center p-3 hidden" data-region="loading-icon-container" >
                        <span class="loading-icon icon-no-margin"><i class="icon fa fa-circle-o-notch fa-spin fa-fw "  title="Loading" aria-label="Loading"></i></span>
                    </div>
                </div>
                
                                            <div
                    class="tab-pane fade h-100 lazy-load-list"
                    aria-live="polite"
                    data-region="lazy-load-list"
                    data-user-id="1250"
                                        id="requests-tab-panel-622974bf2c39a622974bf1ce9233"
                    data-section="requests"
                    role="tabpanel"
                    aria-labelledby="requests-tab-622974bf2c39a622974bf1ce9233"

                >
                    
                    <div class="hidden text-center p-2" data-region="empty-message-container">
                        No contact requests
                    </div>
                    <div class="hidden list-group" data-region="content-container">
                        
                    </div>
                    <div class="list-group" data-region="placeholder-container">
                        
                    </div>
                    <div class="w-100 text-center p-3 hidden" data-region="loading-icon-container" >
                        <span class="loading-icon icon-no-margin"><i class="icon fa fa-circle-o-notch fa-spin fa-fw "  title="Loading" aria-label="Loading"></i></span>
                    </div>
                </div>
                        </div>
                    </div>
                </div>                
                <div
                    class="view-conversation hidden h-100"
                    aria-hidden="true"
                    data-region="view-conversation"
                    data-user-id="1250"
                    data-midnight="1646805600"
                    data-message-poll-min="10"
                    data-message-poll-max="120"
                    data-message-poll-after-max="300"
                    style="overflow-y: auto; overflow-x: hidden"
                >
                    <div class="position-relative h-100" data-region="content-container" style="overflow-y: auto; overflow-x: hidden">
                        <div class="content-message-container hidden h-100 px-2 pt-0" data-region="content-message-container" role="log" style="overflow-y: auto; overflow-x: hidden">
                            <div class="py-3 sticky-top z-index-1 border-bottom text-center hidden" data-region="contact-request-sent-message-container">
                                <p class="m-0">Contact request sent</p>
                                <p class="font-italic font-weight-light" data-region="text"></p>
                            </div>
                            <div class="p-3 text-center hidden" data-region="self-conversation-message-container">
                                <p class="m-0">Personal space</p>
                                <p class="font-italic font-weight-light" data-region="text">Save draft messages, links, notes etc. to access later.</p>
                           </div>
                            <div class="hidden text-center p-3" data-region="more-messages-loading-icon-container"><span class="loading-icon icon-no-margin"><i class="icon fa fa-circle-o-notch fa-spin fa-fw "  title="Loading" aria-label="Loading"></i></span>
</div>
                        </div>
                        <div class="p-4 w-100 h-100 hidden position-absolute" data-region="confirm-dialogue-container" style="top: 0; background: rgba(0,0,0,0.3);">
                            
                            <div class="p-3 bg-white" data-region="confirm-dialogue" role="alert">
                                <p class="text-muted" data-region="dialogue-text"></p>
                                <div class="mb-2 custom-control custom-checkbox hidden" data-region="delete-messages-for-all-users-toggle-container">
                                    <input type="checkbox" class="custom-control-input" id="delete-messages-for-all-users" data-region="delete-messages-for-all-users-toggle">
                                    <label class="custom-control-label text-muted" for="delete-messages-for-all-users">
                                        Delete for me and for everyone else
                                    </label>
                                </div>
                                <button type="button" class="btn btn-primary btn-block hidden" data-action="confirm-block">
                                    <span data-region="dialogue-button-text">Block</span>
                                    <span class="hidden" data-region="loading-icon-container"><span class="loading-icon icon-no-margin"><i class="icon fa fa-circle-o-notch fa-spin fa-fw "  title="Loading" aria-label="Loading"></i></span>
</span>
                                </button>
                                <button type="button" class="btn btn-primary btn-block hidden" data-action="confirm-unblock">
                                    <span data-region="dialogue-button-text">Unblock</span>
                                    <span class="hidden" data-region="loading-icon-container"><span class="loading-icon icon-no-margin"><i class="icon fa fa-circle-o-notch fa-spin fa-fw "  title="Loading" aria-label="Loading"></i></span>
</span>
                                </button>
                                <button type="button" class="btn btn-primary btn-block hidden" data-action="confirm-remove-contact">
                                    <span data-region="dialogue-button-text">Remove</span>
                                    <span class="hidden" data-region="loading-icon-container"><span class="loading-icon icon-no-margin"><i class="icon fa fa-circle-o-notch fa-spin fa-fw "  title="Loading" aria-label="Loading"></i></span>
</span>
                                </button>
                                <button type="button" class="btn btn-primary btn-block hidden" data-action="confirm-add-contact">
                                    <span data-region="dialogue-button-text">Add</span>
                                    <span class="hidden" data-region="loading-icon-container"><span class="loading-icon icon-no-margin"><i class="icon fa fa-circle-o-notch fa-spin fa-fw "  title="Loading" aria-label="Loading"></i></span>
</span>
                                </button>
                                <button type="button" class="btn btn-primary btn-block hidden" data-action="confirm-delete-selected-messages">
                                    <span data-region="dialogue-button-text">Delete</span>
                                    <span class="hidden" data-region="loading-icon-container"><span class="loading-icon icon-no-margin"><i class="icon fa fa-circle-o-notch fa-spin fa-fw "  title="Loading" aria-label="Loading"></i></span>
</span>
                                </button>
                                <button type="button" class="btn btn-primary btn-block hidden" data-action="confirm-delete-conversation">
                                    <span data-region="dialogue-button-text">Delete</span>
                                    <span class="hidden" data-region="loading-icon-container"><span class="loading-icon icon-no-margin"><i class="icon fa fa-circle-o-notch fa-spin fa-fw "  title="Loading" aria-label="Loading"></i></span>
</span>
                                </button>
                                <button type="button" class="btn btn-primary btn-block hidden" data-action="request-add-contact">
                                    <span data-region="dialogue-button-text">Send contact request</span>
                                    <span class="hidden" data-region="loading-icon-container"><span class="loading-icon icon-no-margin"><i class="icon fa fa-circle-o-notch fa-spin fa-fw "  title="Loading" aria-label="Loading"></i></span>
</span>
                                </button>
                                <button type="button" class="btn btn-primary btn-block hidden" data-action="accept-contact-request">
                                    <span data-region="dialogue-button-text">Accept and add to contacts</span>
                                    <span class="hidden" data-region="loading-icon-container"><span class="loading-icon icon-no-margin"><i class="icon fa fa-circle-o-notch fa-spin fa-fw "  title="Loading" aria-label="Loading"></i></span>
</span>
                                </button>
                                <button type="button" class="btn btn-secondary btn-block hidden" data-action="decline-contact-request">
                                    <span data-region="dialogue-button-text">Decline</span>
                                    <span class="hidden" data-region="loading-icon-container"><span class="loading-icon icon-no-margin"><i class="icon fa fa-circle-o-notch fa-spin fa-fw "  title="Loading" aria-label="Loading"></i></span>
</span>
                                </button>
                                <button type="button" class="btn btn-primary btn-block" data-action="okay-confirm">OK</button>
                                <button type="button" class="btn btn-secondary btn-block" data-action="cancel-confirm">Cancel</button>
                            </div>
                        </div>
                        <div class="px-2 pb-2 pt-0" data-region="content-placeholder">
                            <div class="h-100 d-flex flex-column">
                                <div
                                    class="px-2 pb-2 pt-0 bg-light h-100"
                                    style="overflow-y: auto"
                                >
                                    <div class="mt-4">
                                        <div class="mb-4">
                                            <div class="mx-auto bg-white" style="height: 25px; width: 100px"></div>
                                        </div>
                                        <div class="d-flex flex-column p-2 bg-white rounded mb-2">
                                            <div class="d-flex align-items-center mb-2">
                                                <div class="mr-2">
                                                    <div class="rounded-circle bg-pulse-grey" style="height: 35px; width: 35px"></div>
                                                </div>
                                                <div class="mr-4 w-75 bg-pulse-grey" style="height: 16px"></div>
                                                <div class="ml-auto bg-pulse-grey" style="width: 35px; height: 16px"></div>
                                            </div>
                                            <div class="bg-pulse-grey w-100" style="height: 16px"></div>
                                            <div class="bg-pulse-grey w-100 mt-2" style="height: 16px"></div>
                                            <div class="bg-pulse-grey w-100 mt-2" style="height: 16px"></div>
                                            <div class="bg-pulse-grey w-100 mt-2" style="height: 16px"></div>
                                            <div class="bg-pulse-grey w-75 mt-2" style="height: 16px"></div>
                                        </div>
                                        <div class="d-flex flex-column p-2 bg-white rounded mb-2">
                                            <div class="d-flex align-items-center mb-2">
                                                <div class="mr-2">
                                                    <div class="rounded-circle bg-pulse-grey" style="height: 35px; width: 35px"></div>
                                                </div>
                                                <div class="mr-4 w-75 bg-pulse-grey" style="height: 16px"></div>
                                                <div class="ml-auto bg-pulse-grey" style="width: 35px; height: 16px"></div>
                                            </div>
                                            <div class="bg-pulse-grey w-100" style="height: 16px"></div>
                                            <div class="bg-pulse-grey w-100 mt-2" style="height: 16px"></div>
                                            <div class="bg-pulse-grey w-100 mt-2" style="height: 16px"></div>
                                            <div class="bg-pulse-grey w-100 mt-2" style="height: 16px"></div>
                                            <div class="bg-pulse-grey w-75 mt-2" style="height: 16px"></div>
                                        </div>
                                        <div class="d-flex flex-column p-2 bg-white rounded mb-2">
                                            <div class="d-flex align-items-center mb-2">
                                                <div class="mr-2">
                                                    <div class="rounded-circle bg-pulse-grey" style="height: 35px; width: 35px"></div>
                                                </div>
                                                <div class="mr-4 w-75 bg-pulse-grey" style="height: 16px"></div>
                                                <div class="ml-auto bg-pulse-grey" style="width: 35px; height: 16px"></div>
                                            </div>
                                            <div class="bg-pulse-grey w-100" style="height: 16px"></div>
                                            <div class="bg-pulse-grey w-100 mt-2" style="height: 16px"></div>
                                            <div class="bg-pulse-grey w-100 mt-2" style="height: 16px"></div>
                                            <div class="bg-pulse-grey w-100 mt-2" style="height: 16px"></div>
                                            <div class="bg-pulse-grey w-75 mt-2" style="height: 16px"></div>
                                        </div>
                                    </div>                                    <div class="mt-4">
                                        <div class="mb-4">
                                            <div class="mx-auto bg-white" style="height: 25px; width: 100px"></div>
                                        </div>
                                        <div class="d-flex flex-column p-2 bg-white rounded mb-2">
                                            <div class="d-flex align-items-center mb-2">
                                                <div class="mr-2">
                                                    <div class="rounded-circle bg-pulse-grey" style="height: 35px; width: 35px"></div>
                                                </div>
                                                <div class="mr-4 w-75 bg-pulse-grey" style="height: 16px"></div>
                                                <div class="ml-auto bg-pulse-grey" style="width: 35px; height: 16px"></div>
                                            </div>
                                            <div class="bg-pulse-grey w-100" style="height: 16px"></div>
                                            <div class="bg-pulse-grey w-100 mt-2" style="height: 16px"></div>
                                            <div class="bg-pulse-grey w-100 mt-2" style="height: 16px"></div>
                                            <div class="bg-pulse-grey w-100 mt-2" style="height: 16px"></div>
                                            <div class="bg-pulse-grey w-75 mt-2" style="height: 16px"></div>
                                        </div>
                                        <div class="d-flex flex-column p-2 bg-white rounded mb-2">
                                            <div class="d-flex align-items-center mb-2">
                                                <div class="mr-2">
                                                    <div class="rounded-circle bg-pulse-grey" style="height: 35px; width: 35px"></div>
                                                </div>
                                                <div class="mr-4 w-75 bg-pulse-grey" style="height: 16px"></div>
                                                <div class="ml-auto bg-pulse-grey" style="width: 35px; height: 16px"></div>
                                            </div>
                                            <div class="bg-pulse-grey w-100" style="height: 16px"></div>
                                            <div class="bg-pulse-grey w-100 mt-2" style="height: 16px"></div>
                                            <div class="bg-pulse-grey w-100 mt-2" style="height: 16px"></div>
                                            <div class="bg-pulse-grey w-100 mt-2" style="height: 16px"></div>
                                            <div class="bg-pulse-grey w-75 mt-2" style="height: 16px"></div>
                                        </div>
                                        <div class="d-flex flex-column p-2 bg-white rounded mb-2">
                                            <div class="d-flex align-items-center mb-2">
                                                <div class="mr-2">
                                                    <div class="rounded-circle bg-pulse-grey" style="height: 35px; width: 35px"></div>
                                                </div>
                                                <div class="mr-4 w-75 bg-pulse-grey" style="height: 16px"></div>
                                                <div class="ml-auto bg-pulse-grey" style="width: 35px; height: 16px"></div>
                                            </div>
                                            <div class="bg-pulse-grey w-100" style="height: 16px"></div>
                                            <div class="bg-pulse-grey w-100 mt-2" style="height: 16px"></div>
                                            <div class="bg-pulse-grey w-100 mt-2" style="height: 16px"></div>
                                            <div class="bg-pulse-grey w-100 mt-2" style="height: 16px"></div>
                                            <div class="bg-pulse-grey w-75 mt-2" style="height: 16px"></div>
                                        </div>
                                    </div>                                    <div class="mt-4">
                                        <div class="mb-4">
                                            <div class="mx-auto bg-white" style="height: 25px; width: 100px"></div>
                                        </div>
                                        <div class="d-flex flex-column p-2 bg-white rounded mb-2">
                                            <div class="d-flex align-items-center mb-2">
                                                <div class="mr-2">
                                                    <div class="rounded-circle bg-pulse-grey" style="height: 35px; width: 35px"></div>
                                                </div>
                                                <div class="mr-4 w-75 bg-pulse-grey" style="height: 16px"></div>
                                                <div class="ml-auto bg-pulse-grey" style="width: 35px; height: 16px"></div>
                                            </div>
                                            <div class="bg-pulse-grey w-100" style="height: 16px"></div>
                                            <div class="bg-pulse-grey w-100 mt-2" style="height: 16px"></div>
                                            <div class="bg-pulse-grey w-100 mt-2" style="height: 16px"></div>
                                            <div class="bg-pulse-grey w-100 mt-2" style="height: 16px"></div>
                                            <div class="bg-pulse-grey w-75 mt-2" style="height: 16px"></div>
                                        </div>
                                        <div class="d-flex flex-column p-2 bg-white rounded mb-2">
                                            <div class="d-flex align-items-center mb-2">
                                                <div class="mr-2">
                                                    <div class="rounded-circle bg-pulse-grey" style="height: 35px; width: 35px"></div>
                                                </div>
                                                <div class="mr-4 w-75 bg-pulse-grey" style="height: 16px"></div>
                                                <div class="ml-auto bg-pulse-grey" style="width: 35px; height: 16px"></div>
                                            </div>
                                            <div class="bg-pulse-grey w-100" style="height: 16px"></div>
                                            <div class="bg-pulse-grey w-100 mt-2" style="height: 16px"></div>
                                            <div class="bg-pulse-grey w-100 mt-2" style="height: 16px"></div>
                                            <div class="bg-pulse-grey w-100 mt-2" style="height: 16px"></div>
                                            <div class="bg-pulse-grey w-75 mt-2" style="height: 16px"></div>
                                        </div>
                                        <div class="d-flex flex-column p-2 bg-white rounded mb-2">
                                            <div class="d-flex align-items-center mb-2">
                                                <div class="mr-2">
                                                    <div class="rounded-circle bg-pulse-grey" style="height: 35px; width: 35px"></div>
                                                </div>
                                                <div class="mr-4 w-75 bg-pulse-grey" style="height: 16px"></div>
                                                <div class="ml-auto bg-pulse-grey" style="width: 35px; height: 16px"></div>
                                            </div>
                                            <div class="bg-pulse-grey w-100" style="height: 16px"></div>
                                            <div class="bg-pulse-grey w-100 mt-2" style="height: 16px"></div>
                                            <div class="bg-pulse-grey w-100 mt-2" style="height: 16px"></div>
                                            <div class="bg-pulse-grey w-100 mt-2" style="height: 16px"></div>
                                            <div class="bg-pulse-grey w-75 mt-2" style="height: 16px"></div>
                                        </div>
                                    </div>                                    <div class="mt-4">
                                        <div class="mb-4">
                                            <div class="mx-auto bg-white" style="height: 25px; width: 100px"></div>
                                        </div>
                                        <div class="d-flex flex-column p-2 bg-white rounded mb-2">
                                            <div class="d-flex align-items-center mb-2">
                                                <div class="mr-2">
                                                    <div class="rounded-circle bg-pulse-grey" style="height: 35px; width: 35px"></div>
                                                </div>
                                                <div class="mr-4 w-75 bg-pulse-grey" style="height: 16px"></div>
                                                <div class="ml-auto bg-pulse-grey" style="width: 35px; height: 16px"></div>
                                            </div>
                                            <div class="bg-pulse-grey w-100" style="height: 16px"></div>
                                            <div class="bg-pulse-grey w-100 mt-2" style="height: 16px"></div>
                                            <div class="bg-pulse-grey w-100 mt-2" style="height: 16px"></div>
                                            <div class="bg-pulse-grey w-100 mt-2" style="height: 16px"></div>
                                            <div class="bg-pulse-grey w-75 mt-2" style="height: 16px"></div>
                                        </div>
                                        <div class="d-flex flex-column p-2 bg-white rounded mb-2">
                                            <div class="d-flex align-items-center mb-2">
                                                <div class="mr-2">
                                                    <div class="rounded-circle bg-pulse-grey" style="height: 35px; width: 35px"></div>
                                                </div>
                                                <div class="mr-4 w-75 bg-pulse-grey" style="height: 16px"></div>
                                                <div class="ml-auto bg-pulse-grey" style="width: 35px; height: 16px"></div>
                                            </div>
                                            <div class="bg-pulse-grey w-100" style="height: 16px"></div>
                                            <div class="bg-pulse-grey w-100 mt-2" style="height: 16px"></div>
                                            <div class="bg-pulse-grey w-100 mt-2" style="height: 16px"></div>
                                            <div class="bg-pulse-grey w-100 mt-2" style="height: 16px"></div>
                                            <div class="bg-pulse-grey w-75 mt-2" style="height: 16px"></div>
                                        </div>
                                        <div class="d-flex flex-column p-2 bg-white rounded mb-2">
                                            <div class="d-flex align-items-center mb-2">
                                                <div class="mr-2">
                                                    <div class="rounded-circle bg-pulse-grey" style="height: 35px; width: 35px"></div>
                                                </div>
                                                <div class="mr-4 w-75 bg-pulse-grey" style="height: 16px"></div>
                                                <div class="ml-auto bg-pulse-grey" style="width: 35px; height: 16px"></div>
                                            </div>
                                            <div class="bg-pulse-grey w-100" style="height: 16px"></div>
                                            <div class="bg-pulse-grey w-100 mt-2" style="height: 16px"></div>
                                            <div class="bg-pulse-grey w-100 mt-2" style="height: 16px"></div>
                                            <div class="bg-pulse-grey w-100 mt-2" style="height: 16px"></div>
                                            <div class="bg-pulse-grey w-75 mt-2" style="height: 16px"></div>
                                        </div>
                                    </div>                                    <div class="mt-4">
                                        <div class="mb-4">
                                            <div class="mx-auto bg-white" style="height: 25px; width: 100px"></div>
                                        </div>
                                        <div class="d-flex flex-column p-2 bg-white rounded mb-2">
                                            <div class="d-flex align-items-center mb-2">
                                                <div class="mr-2">
                                                    <div class="rounded-circle bg-pulse-grey" style="height: 35px; width: 35px"></div>
                                                </div>
                                                <div class="mr-4 w-75 bg-pulse-grey" style="height: 16px"></div>
                                                <div class="ml-auto bg-pulse-grey" style="width: 35px; height: 16px"></div>
                                            </div>
                                            <div class="bg-pulse-grey w-100" style="height: 16px"></div>
                                            <div class="bg-pulse-grey w-100 mt-2" style="height: 16px"></div>
                                            <div class="bg-pulse-grey w-100 mt-2" style="height: 16px"></div>
                                            <div class="bg-pulse-grey w-100 mt-2" style="height: 16px"></div>
                                            <div class="bg-pulse-grey w-75 mt-2" style="height: 16px"></div>
                                        </div>
                                        <div class="d-flex flex-column p-2 bg-white rounded mb-2">
                                            <div class="d-flex align-items-center mb-2">
                                                <div class="mr-2">
                                                    <div class="rounded-circle bg-pulse-grey" style="height: 35px; width: 35px"></div>
                                                </div>
                                                <div class="mr-4 w-75 bg-pulse-grey" style="height: 16px"></div>
                                                <div class="ml-auto bg-pulse-grey" style="width: 35px; height: 16px"></div>
                                            </div>
                                            <div class="bg-pulse-grey w-100" style="height: 16px"></div>
                                            <div class="bg-pulse-grey w-100 mt-2" style="height: 16px"></div>
                                            <div class="bg-pulse-grey w-100 mt-2" style="height: 16px"></div>
                                            <div class="bg-pulse-grey w-100 mt-2" style="height: 16px"></div>
                                            <div class="bg-pulse-grey w-75 mt-2" style="height: 16px"></div>
                                        </div>
                                        <div class="d-flex flex-column p-2 bg-white rounded mb-2">
                                            <div class="d-flex align-items-center mb-2">
                                                <div class="mr-2">
                                                    <div class="rounded-circle bg-pulse-grey" style="height: 35px; width: 35px"></div>
                                                </div>
                                                <div class="mr-4 w-75 bg-pulse-grey" style="height: 16px"></div>
                                                <div class="ml-auto bg-pulse-grey" style="width: 35px; height: 16px"></div>
                                            </div>
                                            <div class="bg-pulse-grey w-100" style="height: 16px"></div>
                                            <div class="bg-pulse-grey w-100 mt-2" style="height: 16px"></div>
                                            <div class="bg-pulse-grey w-100 mt-2" style="height: 16px"></div>
                                            <div class="bg-pulse-grey w-100 mt-2" style="height: 16px"></div>
                                            <div class="bg-pulse-grey w-75 mt-2" style="height: 16px"></div>
                                        </div>
                                    </div>                                </div>
                            </div>                        </div>
                    </div>
                </div>
                
                <div
                    class="hidden"
                    aria-hidden="true"
                    data-region="view-group-info"
                >
                    <div
                        class="pt-3 h-100 d-flex flex-column"
                        data-region="group-info-content-container"
                        style="overflow-y: auto"
                    ></div>
                </div>                <div class="h-100 view-overview-body" aria-hidden="false" data-region="view-overview"  data-user-id="1250">
                    <div id="message-drawer-view-overview-container-622974bf2c39a622974bf1ce9233" class="d-flex flex-column h-100" style="overflow-y: auto">
                            
                            
                            <div
                                class="section border-0 card"
                                data-region="view-overview-favourites"
                            >
                                <div id="view-overview-favourites-toggle" class="card-header p-0" data-region="toggle">
                                    <button
                                        class="btn btn-link w-100 text-left p-1 p-sm-2 d-flex align-items-center overview-section-toggle collapsed"
                                        data-toggle="collapse"
                                        data-target="#view-overview-favourites-target-622974bf2c39a622974bf1ce9233"
                                        aria-expanded="false"
                                        aria-controls="view-overview-favourites-target-622974bf2c39a622974bf1ce9233"
                                    >
                                        <span class="collapsed-icon-container">
                                            <i class="icon fa fa-caret-right fa-fw " aria-hidden="true"  ></i>
                                        </span>
                                        <span class="expanded-icon-container">
                                            <i class="icon fa fa-caret-down fa-fw " aria-hidden="true"  ></i>
                                        </span>
                                        <span class="font-weight-bold">Starred</span>
                                        <small class="hidden ml-1" data-region="section-total-count-container"
                                        aria-label=" total conversations">
                                            (<span data-region="section-total-count"></span>)
                                        </small>
                                        <span class="hidden ml-2" data-region="loading-icon-container">
                                            <span class="loading-icon icon-no-margin"><i class="icon fa fa-circle-o-notch fa-spin fa-fw "  title="Loading" aria-label="Loading"></i></span>
                                        </span>
                                        <span class="hidden badge badge-pill badge-primary ml-auto bg-primary"
                                        data-region="section-unread-count"
                                        >
                                            
                                        </span>
                                    </button>
                                </div>
                                                            <div
                                class="collapse border-bottom  lazy-load-list"
                                aria-live="polite"
                                data-region="lazy-load-list"
                                data-user-id="1250"
                                            id="view-overview-favourites-target-622974bf2c39a622974bf1ce9233"
            aria-labelledby="view-overview-favourites-toggle"
            data-parent="#message-drawer-view-overview-container-622974bf2c39a622974bf1ce9233"

                            >
                                
                                <div class="hidden text-center p-2" data-region="empty-message-container">
                                            <p class="text-muted mt-2">No starred conversations</p>

                                </div>
                                <div class="hidden list-group" data-region="content-container">
                                    
                                </div>
                                <div class="list-group" data-region="placeholder-container">
                                            <div class="text-center py-2"><span class="loading-icon icon-no-margin"><i class="icon fa fa-circle-o-notch fa-spin fa-fw "  title="Loading" aria-label="Loading"></i></span>
</div>

                                </div>
                                <div class="w-100 text-center p-3 hidden" data-region="loading-icon-container" >
                                    <span class="loading-icon icon-no-margin"><i class="icon fa fa-circle-o-notch fa-spin fa-fw "  title="Loading" aria-label="Loading"></i></span>
                                </div>
                            </div>
                            </div>
                            
                            
                            <div
                                class="section border-0 card"
                                data-region="view-overview-group-messages"
                            >
                                <div id="view-overview-group-messages-toggle" class="card-header p-0" data-region="toggle">
                                    <button
                                        class="btn btn-link w-100 text-left p-1 p-sm-2 d-flex align-items-center overview-section-toggle collapsed"
                                        data-toggle="collapse"
                                        data-target="#view-overview-group-messages-target-622974bf2c39a622974bf1ce9233"
                                        aria-expanded="false"
                                        aria-controls="view-overview-group-messages-target-622974bf2c39a622974bf1ce9233"
                                    >
                                        <span class="collapsed-icon-container">
                                            <i class="icon fa fa-caret-right fa-fw " aria-hidden="true"  ></i>
                                        </span>
                                        <span class="expanded-icon-container">
                                            <i class="icon fa fa-caret-down fa-fw " aria-hidden="true"  ></i>
                                        </span>
                                        <span class="font-weight-bold">Group</span>
                                        <small class="hidden ml-1" data-region="section-total-count-container"
                                        aria-label=" total conversations">
                                            (<span data-region="section-total-count"></span>)
                                        </small>
                                        <span class="hidden ml-2" data-region="loading-icon-container">
                                            <span class="loading-icon icon-no-margin"><i class="icon fa fa-circle-o-notch fa-spin fa-fw "  title="Loading" aria-label="Loading"></i></span>
                                        </span>
                                        <span class="hidden badge badge-pill badge-primary ml-auto bg-primary"
                                        data-region="section-unread-count"
                                        >
                                            
                                        </span>
                                    </button>
                                </div>
                                                            <div
                                class="collapse border-bottom  lazy-load-list"
                                aria-live="polite"
                                data-region="lazy-load-list"
                                data-user-id="1250"
                                            id="view-overview-group-messages-target-622974bf2c39a622974bf1ce9233"
            aria-labelledby="view-overview-group-messages-toggle"
            data-parent="#message-drawer-view-overview-container-622974bf2c39a622974bf1ce9233"

                            >
                                
                                <div class="hidden text-center p-2" data-region="empty-message-container">
                                            <p class="text-muted mt-2">No group conversations</p>

                                </div>
                                <div class="hidden list-group" data-region="content-container">
                                    
                                </div>
                                <div class="list-group" data-region="placeholder-container">
                                            <div class="text-center py-2"><span class="loading-icon icon-no-margin"><i class="icon fa fa-circle-o-notch fa-spin fa-fw "  title="Loading" aria-label="Loading"></i></span>
</div>

                                </div>
                                <div class="w-100 text-center p-3 hidden" data-region="loading-icon-container" >
                                    <span class="loading-icon icon-no-margin"><i class="icon fa fa-circle-o-notch fa-spin fa-fw "  title="Loading" aria-label="Loading"></i></span>
                                </div>
                            </div>
                            </div>
                            
                            
                            <div
                                class="section border-0 card"
                                data-region="view-overview-messages"
                            >
                                <div id="view-overview-messages-toggle" class="card-header p-0" data-region="toggle">
                                    <button
                                        class="btn btn-link w-100 text-left p-1 p-sm-2 d-flex align-items-center overview-section-toggle collapsed"
                                        data-toggle="collapse"
                                        data-target="#view-overview-messages-target-622974bf2c39a622974bf1ce9233"
                                        aria-expanded="false"
                                        aria-controls="view-overview-messages-target-622974bf2c39a622974bf1ce9233"
                                    >
                                        <span class="collapsed-icon-container">
                                            <i class="icon fa fa-caret-right fa-fw " aria-hidden="true"  ></i>
                                        </span>
                                        <span class="expanded-icon-container">
                                            <i class="icon fa fa-caret-down fa-fw " aria-hidden="true"  ></i>
                                        </span>
                                        <span class="font-weight-bold">Private</span>
                                        <small class="hidden ml-1" data-region="section-total-count-container"
                                        aria-label=" total conversations">
                                            (<span data-region="section-total-count"></span>)
                                        </small>
                                        <span class="hidden ml-2" data-region="loading-icon-container">
                                            <span class="loading-icon icon-no-margin"><i class="icon fa fa-circle-o-notch fa-spin fa-fw "  title="Loading" aria-label="Loading"></i></span>
                                        </span>
                                        <span class="hidden badge badge-pill badge-primary ml-auto bg-primary"
                                        data-region="section-unread-count"
                                        >
                                            
                                        </span>
                                    </button>
                                </div>
                                                            <div
                                class="collapse border-bottom  lazy-load-list"
                                aria-live="polite"
                                data-region="lazy-load-list"
                                data-user-id="1250"
                                            id="view-overview-messages-target-622974bf2c39a622974bf1ce9233"
            aria-labelledby="view-overview-messages-toggle"
            data-parent="#message-drawer-view-overview-container-622974bf2c39a622974bf1ce9233"

                            >
                                
                                <div class="hidden text-center p-2" data-region="empty-message-container">
                                            <p class="text-muted mt-2">No private conversations</p>

                                </div>
                                <div class="hidden list-group" data-region="content-container">
                                    
                                </div>
                                <div class="list-group" data-region="placeholder-container">
                                            <div class="text-center py-2"><span class="loading-icon icon-no-margin"><i class="icon fa fa-circle-o-notch fa-spin fa-fw "  title="Loading" aria-label="Loading"></i></span>
</div>

                                </div>
                                <div class="w-100 text-center p-3 hidden" data-region="loading-icon-container" >
                                    <span class="loading-icon icon-no-margin"><i class="icon fa fa-circle-o-notch fa-spin fa-fw "  title="Loading" aria-label="Loading"></i></span>
                                </div>
                            </div>
                            </div>
                    </div>
                </div>
                
                <div
                    data-region="view-search"
                    aria-hidden="true"
                    class="h-100 hidden"
                    data-user-id="1250"
                    data-users-offset="0"
                    data-messages-offset="0"
                    style="overflow-y: auto"
                    
                >
                    <div class="hidden" data-region="search-results-container" style="overflow-y: auto">
                        
                        <div class="d-flex flex-column">
                            <div class="mb-3 bg-white" data-region="all-contacts-container">
                                <div data-region="contacts-container"  class="pt-2">
                                    <h4 class="h6 px-2">Contacts</h4>
                                    <div class="list-group" data-region="list"></div>
                                </div>
                                <div data-region="non-contacts-container" class="pt-2 border-top">
                                    <h4 class="h6 px-2">Non-contacts</h4>
                                    <div class="list-group" data-region="list"></div>
                                </div>
                                <div class="text-right">
                                    <button class="btn btn-link text-primary" data-action="load-more-users">
                                        <span data-region="button-text">Load more</span>
                                        <span data-region="loading-icon-container" class="hidden"><span class="loading-icon icon-no-margin"><i class="icon fa fa-circle-o-notch fa-spin fa-fw "  title="Loading" aria-label="Loading"></i></span>
</span>
                                    </button>
                                </div>
                            </div>
                            <div class="bg-white" data-region="messages-container">
                                <h4 class="h6 px-2 pt-2">Messages</h4>
                                <div class="list-group" data-region="list"></div>
                                <div class="text-right">
                                    <button class="btn btn-link text-primary" data-action="load-more-messages">
                                        <span data-region="button-text">Load more</span>
                                        <span data-region="loading-icon-container" class="hidden"><span class="loading-icon icon-no-margin"><i class="icon fa fa-circle-o-notch fa-spin fa-fw "  title="Loading" aria-label="Loading"></i></span>
</span>
                                    </button>
                                </div>
                            </div>
                            <p class="hidden p-3 text-center" data-region="no-results-container">No results</p>
                        </div>                    </div>
                    <div class="hidden" data-region="loading-placeholder">
                        <div class="text-center pt-3 icon-size-4"><span class="loading-icon icon-no-margin"><i class="icon fa fa-circle-o-notch fa-spin fa-fw "  title="Loading" aria-label="Loading"></i></span>
</div>
                    </div>
                    <div class="p-3 text-center" data-region="empty-message-container">
                        <p>Search people and messages</p>
                    </div>
                </div>                
                <div class="h-100 hidden bg-white" aria-hidden="true" data-region="view-settings">
                    <div class="hidden" data-region="content-container">
                        
                        <div data-region="settings" class="p-3">
                            <h3 class="h6 font-weight-bold">Privacy</h3>
                            <p>You can restrict who can message you</p>
                            <div data-preference="blocknoncontacts" class="mb-3">
                                <fieldset>
                                    <legend class="sr-only">Accept messages from:</legend>
                                        <div class="custom-control custom-radio mb-2">
                                            <input
                                                type="radio"
                                                name="message_blocknoncontacts"
                                                class="custom-control-input"
                                                id="block-noncontacts-622974bf2c39a622974bf1ce9233-1"
                                                value="1"
                                            >
                                            <label class="custom-control-label ml-2" for="block-noncontacts-622974bf2c39a622974bf1ce9233-1">
                                                My contacts only
                                            </label>
                                        </div>
                                        <div class="custom-control custom-radio mb-2">
                                            <input
                                                type="radio"
                                                name="message_blocknoncontacts"
                                                class="custom-control-input"
                                                id="block-noncontacts-622974bf2c39a622974bf1ce9233-0"
                                                value="0"
                                            >
                                            <label class="custom-control-label ml-2" for="block-noncontacts-622974bf2c39a622974bf1ce9233-0">
                                                My contacts and anyone in my courses
                                            </label>
                                        </div>
                                </fieldset>
                            </div>
                        
                            <div class="hidden" data-region="notification-preference-container">
                                <h3 class="mb-2 mt-4 h6 font-weight-bold">Notification preferences</h3>
                            </div>
                        
                            <h3 class="mb-2 mt-4 h6 font-weight-bold">General</h3>
                            <div data-preference="entertosend">
                                <div class="custom-control custom-switch">
                                    <input type="checkbox" class="custom-control-input" id="enter-to-send-622974bf2c39a622974bf1ce9233" checked>
                                    <label class="custom-control-label" for="enter-to-send-622974bf2c39a622974bf1ce9233">
                                        Use enter to send
                                    </label>
                                </div>
                            </div>
                        </div>
                    </div>
                    <div data-region="placeholder-container">
                        
                        <div class="d-flex flex-column p-3">
                            <div class="w-25 bg-pulse-grey h6" style="height: 18px"></div>
                            <div class="w-75 bg-pulse-grey mb-4" style="height: 18px"></div>
                            <div class="mb-3">
                                <div class="w-100 d-flex mb-3">
                                    <div class="bg-pulse-grey rounded-circle" style="width: 18px; height: 18px"></div>
                                    <div class="bg-pulse-grey w-50 ml-2" style="height: 18px"></div>
                                </div>
                                <div class="w-100 d-flex mb-3">
                                    <div class="bg-pulse-grey rounded-circle" style="width: 18px; height: 18px"></div>
                                    <div class="bg-pulse-grey w-50 ml-2" style="height: 18px"></div>
                                </div>
                                <div class="w-100 d-flex mb-3">
                                    <div class="bg-pulse-grey rounded-circle" style="width: 18px; height: 18px"></div>
                                    <div class="bg-pulse-grey w-50 ml-2" style="height: 18px"></div>
                                </div>
                            </div>
                            <div class="w-50 bg-pulse-grey h6 mb-3 mt-2" style="height: 18px"></div>
                            <div class="mb-4">
                                <div class="w-100 d-flex mb-2 align-items-center">
                                    <div class="bg-pulse-grey w-25" style="width: 18px; height: 27px"></div>
                                    <div class="bg-pulse-grey w-25 ml-2" style="height: 18px"></div>
                                </div>
                                <div class="w-100 d-flex mb-2 align-items-center">
                                    <div class="bg-pulse-grey w-25" style="width: 18px; height: 27px"></div>
                                    <div class="bg-pulse-grey w-25 ml-2" style="height: 18px"></div>
                                </div>
                            </div>
                            <div class="w-25 bg-pulse-grey h6 mb-3 mt-2" style="height: 18px"></div>
                            <div class="mb-3">
                                <div class="w-100 d-flex mb-2 align-items-center">
                                    <div class="bg-pulse-grey w-25" style="width: 18px; height: 27px"></div>
                                    <div class="bg-pulse-grey w-50 ml-2" style="height: 18px"></div>
                                </div>
                            </div>
                        </div>                    </div>
                </div>            </div>
            <div class="footer-container position-relative" data-region="footer-container">
                
                <div
                    class="hidden border-top bg-white position-relative"
                    aria-hidden="true"
                    data-region="view-conversation"
                    data-enter-to-send="1"
                >
                    <div class="hidden p-sm-2" data-region="content-messages-footer-container">
                        
                            <div
                                class="emoji-auto-complete-container w-100 hidden"
                                data-region="emoji-auto-complete-container"
                                aria-live="polite"
                                aria-hidden="true"
                            >
                            </div>
                        <div class="d-flex mt-sm-1">
                            <textarea
                                dir="auto"
                                data-region="send-message-txt"
                                class="form-control bg-light"
                                rows="3"
                                data-auto-rows
                                data-min-rows="3"
                                data-max-rows="5"
                                aria-label="Write a message..."
                                placeholder="Write a message..."
                                style="resize: none"
                                maxlength="4096"
                            ></textarea>
                        
                            <div class="position-relative d-flex flex-column">
                                    <div
                                        data-region="emoji-picker-container"
                                        class="emoji-picker-container hidden"
                                        aria-hidden="true"
                                    >
                                        
                                        <div
                                            data-region="emoji-picker"
                                            class="card shadow emoji-picker"
                                        >
                                            <div class="card-header px-1 pt-1 pb-0 d-flex justify-content-between flex-shrink-0">
                                                <button
                                                    class="btn btn-outline-secondary icon-no-margin category-button selected"
                                                    data-action="show-category"
                                                    data-category="Recent"
                                                    title="Recent"
                                                >
                                                    <i class="icon fa fa-clock-o fa-fw " aria-hidden="true"  ></i>
                                                </button>
                                                <button
                                                    class="btn btn-outline-secondary icon-no-margin category-button"
                                                    data-action="show-category"
                                                    data-category="Smileys & People"
                                                    title="Smileys & people"
                                                >
                                                    <i class="icon fa fa-smile-o fa-fw " aria-hidden="true"  ></i>
                                                </button>
                                                <button
                                                    class="btn btn-outline-secondary icon-no-margin category-button"
                                                    data-action="show-category"
                                                    data-category="Animals & Nature"
                                                    title="Animals & nature"
                                                >
                                                    <i class="icon fa fa-leaf fa-fw " aria-hidden="true"  ></i>
                                                </button>
                                                <button
                                                    class="btn btn-outline-secondary icon-no-margin category-button"
                                                    data-action="show-category"
                                                    data-category="Food & Drink"
                                                    title="Food & drink"
                                                >
                                                    <i class="icon fa fa-cutlery fa-fw " aria-hidden="true"  ></i>
                                                </button>
                                                <button
                                                    class="btn btn-outline-secondary icon-no-margin category-button"
                                                    data-action="show-category"
                                                    data-category="Travel & Places"
                                                    title="Travel & places"
                                                >
                                                    <i class="icon fa fa-plane fa-fw " aria-hidden="true"  ></i>
                                                </button>
                                                <button
                                                    class="btn btn-outline-secondary icon-no-margin category-button"
                                                    data-action="show-category"
                                                    data-category="Activities"
                                                    title="Activities"
                                                >
                                                    <i class="icon fa fa-futbol-o fa-fw " aria-hidden="true"  ></i>
                                                </button>
                                                <button
                                                    class="btn btn-outline-secondary icon-no-margin category-button"
                                                    data-action="show-category"
                                                    data-category="Objects"
                                                    title="Objects"
                                                >
                                                    <i class="icon fa fa-lightbulb-o fa-fw " aria-hidden="true"  ></i>
                                                </button>
                                                <button
                                                    class="btn btn-outline-secondary icon-no-margin category-button"
                                                    data-action="show-category"
                                                    data-category="Symbols"
                                                    title="Symbols"
                                                >
                                                    <i class="icon fa fa-heart fa-fw " aria-hidden="true"  ></i>
                                                </button>
                                                <button
                                                    class="btn btn-outline-secondary icon-no-margin category-button"
                                                    data-action="show-category"
                                                    data-category="Flags"
                                                    title="Flags"
                                                >
                                                    <i class="icon fa fa-flag fa-fw " aria-hidden="true"  ></i>
                                                </button>
                                            </div>
                                            <div class="card-body p-2 d-flex flex-column overflow-hidden">
                                                <div class="input-group mb-1 flex-shrink-0">
                                                    <div class="input-group-prepend">
                                                        <span class="input-group-text pr-0 bg-white text-muted">
                                                            <i class="icon fa fa-search fa-fw " aria-hidden="true"  ></i>
                                                        </span>
                                                    </div>
                                                    <input
                                                        type="text"
                                                        class="form-control border-left-0"
                                                        placeholder="Search"
                                                        aria-label="Search"
                                                        data-region="search-input"
                                                    >
                                                </div>
                                                <div class="flex-grow-1 overflow-auto emojis-container h-100" data-region="emojis-container">
                                                    <div class="position-relative" data-region="row-container"></div>
                                                </div>
                                                <div class="flex-grow-1 overflow-auto search-results-container h-100 hidden" data-region="search-results-container">
                                                    <div class="position-relative" data-region="row-container"></div>
                                                </div>
                                            </div>
                                            <div
                                                class="card-footer d-flex flex-shrink-0"
                                                data-region="footer"
                                            >
                                                <div class="emoji-preview" data-region="emoji-preview"></div>
                                                <div data-region="emoji-short-name" class="emoji-short-name text-muted text-wrap ml-2"></div>
                                            </div>
                                        </div>
                                    </div>
                                    <button
                                        class="btn btn-link btn-icon icon-size-3 ml-1"
                                        aria-label="Toggle emoji picker"
                                        data-action="toggle-emoji-picker"
                                    >
                                        <i class="icon fa fa-smile-o fa-fw " aria-hidden="true"  ></i>
                                    </button>
                                <button
                                    class="btn btn-link btn-icon icon-size-3 ml-1 mt-auto"
                                    aria-label="Send message"
                                    data-action="send-message"
                                >
                                    <span data-region="send-icon-container"><i class="icon fa fa-paper-plane fa-fw " aria-hidden="true"  ></i></span>
                                    <span class="hidden" data-region="loading-icon-container"><span class="loading-icon icon-no-margin"><i class="icon fa fa-circle-o-notch fa-spin fa-fw "  title="Loading" aria-label="Loading"></i></span>
</span>
                                </button>
                            </div>
                        </div>
                    </div>
                    <div class="hidden p-sm-2" data-region="content-messages-footer-edit-mode-container">
                        
                        <div class="d-flex p-3 justify-content-end">
                            <button
                                class="btn btn-link btn-icon my-1 icon-size-4"
                                data-action="delete-selected-messages"
                                data-toggle="tooltip"
                                data-placement="top"
                                title="Delete selected messages"
                            >
                                <span data-region="icon-container"><i class="icon fa fa-trash fa-fw " aria-hidden="true"  ></i></span>
                                <span class="hidden" data-region="loading-icon-container"><span class="loading-icon icon-no-margin"><i class="icon fa fa-circle-o-notch fa-spin fa-fw "  title="Loading" aria-label="Loading"></i></span>
</span>
                                <span class="sr-only">Delete selected messages</span>
                            </button>
                        </div>                    </div>
                    <div class="hidden bg-secondary p-sm-3" data-region="content-messages-footer-require-contact-container">
                        
                        <div class="p-3 bg-white">
                            <p data-region="title"></p>
                            <p class="text-muted" data-region="text"></p>
                            <button type="button" class="btn btn-primary btn-block" data-action="request-add-contact">
                                <span data-region="dialogue-button-text">Send contact request</span>
                                <span class="hidden" data-region="loading-icon-container"><span class="loading-icon icon-no-margin"><i class="icon fa fa-circle-o-notch fa-spin fa-fw "  title="Loading" aria-label="Loading"></i></span>
</span>
                            </button>
                        </div>
                    </div>
                    <div class="hidden bg-secondary p-sm-3" data-region="content-messages-footer-require-unblock-container">
                        
                        <div class="p-3 bg-white">
                            <p class="text-muted" data-region="text">You have blocked this user.</p>
                            <button type="button" class="btn btn-primary btn-block" data-action="request-unblock">
                                <span data-region="dialogue-button-text">Unblock user</span>
                                <span class="hidden" data-region="loading-icon-container"><span class="loading-icon icon-no-margin"><i class="icon fa fa-circle-o-notch fa-spin fa-fw "  title="Loading" aria-label="Loading"></i></span>
</span>
                            </button>
                        </div>
                    </div>
                    <div class="hidden bg-secondary p-sm-3" data-region="content-messages-footer-unable-to-message">
                        
                        <div class="p-3 bg-white">
                            <p class="text-muted" data-region="text">You are unable to message this user</p>
                        </div>
                    </div>
                    <div class="p-sm-2" data-region="placeholder-container">
                        <div class="d-flex">
                            <div class="bg-pulse-grey w-100" style="height: 80px"></div>
                            <div class="mx-2 mb-2 align-self-end bg-pulse-grey" style="height: 20px; width: 20px"></div>
                        </div>                    </div>
                    <div
                        class="hidden position-absolute"
                        data-region="confirm-dialogue-container"
                        style="top: -1px; bottom: 0; right: 0; left: 0; background: rgba(0,0,0,0.3);"
                    ></div>
                </div>                    <div data-region="view-overview" class="text-center">
                        <a href="https://moodle.beloit.edu/message/index.php">
                            See all
                        </a>
                    </div>
            </div>
        </div>

</div>

        <div id="nav-drawer" data-region="drawer" class="d-print-none moodle-has-zindex " aria-hidden="false" tabindex="-1">
            <nav class="list-group" aria-label="DSDA 345 01_SP-2021">
                <ul>
                        <li>
                            <a class="list-group-item list-group-item-action  " href="https://moodle.beloit.edu/course/view.php?id=643" data-key="coursehome" data-isexpandable="0" data-indent="0" data-showdivider="0" data-type="60" data-nodetype="0" data-collapse="0" data-forceopen="0" data-isactive="0" data-hidden="0" data-preceedwithhr="0" >
                                <div class="ml-0">
                                    <div class="media">
                                            <span class="media-left">
                                                <i class="icon fa fa-graduation-cap fa-fw " aria-hidden="true"  ></i>
                                            </span>
                                        <span class="media-body ">DSDA 345 01_SP-2021</span>
                                    </div>
                                </div>
                            </a>
                        </li>
                        <li>
                            <a class="list-group-item list-group-item-action  " href="https://moodle.beloit.edu/user/index.php?id=643" data-key="participants" data-isexpandable="0" data-indent="0" data-showdivider="0" data-type="90" data-nodetype="1" data-collapse="0" data-forceopen="0" data-isactive="0" data-hidden="0" data-preceedwithhr="0" data-parent-key="643">
                                <div class="ml-0">
                                    <div class="media">
                                            <span class="media-left">
                                                <i class="icon fa fa-users fa-fw " aria-hidden="true"  ></i>
                                            </span>
                                        <span class="media-body ">Participants</span>
                                    </div>
                                </div>
                            </a>
                        </li>
                        <li>
                            <a class="list-group-item list-group-item-action  " href="https://moodle.beloit.edu/badges/view.php?type=2&amp;id=643" data-key="badgesview" data-isexpandable="0" data-indent="0" data-showdivider="0" data-type="70" data-nodetype="0" data-collapse="0" data-forceopen="0" data-isactive="0" data-hidden="0" data-preceedwithhr="0" data-parent-key="643">
                                <div class="ml-0">
                                    <div class="media">
                                            <span class="media-left">
                                                <i class="icon fa fa-shield fa-fw " aria-hidden="true"  ></i>
                                            </span>
                                        <span class="media-body ">Badges</span>
                                    </div>
                                </div>
                            </a>
                        </li>
                        <li>
                            <a class="list-group-item list-group-item-action  " href="https://moodle.beloit.edu/admin/tool/lp/coursecompetencies.php?courseid=643" data-key="competencies" data-isexpandable="0" data-indent="0" data-showdivider="0" data-type="70" data-nodetype="0" data-collapse="0" data-forceopen="0" data-isactive="0" data-hidden="0" data-preceedwithhr="0" data-parent-key="643">
                                <div class="ml-0">
                                    <div class="media">
                                            <span class="media-left">
                                                <i class="icon fa fa-check-square-o fa-fw " aria-hidden="true"  ></i>
                                            </span>
                                        <span class="media-body ">Competencies</span>
                                    </div>
                                </div>
                            </a>
                        </li>
                        <li>
                            <a class="list-group-item list-group-item-action  " href="https://moodle.beloit.edu/grade/report/index.php?id=643" data-key="grades" data-isexpandable="0" data-indent="0" data-showdivider="0" data-type="70" data-nodetype="0" data-collapse="0" data-forceopen="0" data-isactive="0" data-hidden="0" data-preceedwithhr="0" data-parent-key="643">
                                <div class="ml-0">
                                    <div class="media">
                                            <span class="media-left">
                                                <i class="icon fa fa-table fa-fw " aria-hidden="true"  ></i>
                                            </span>
                                        <span class="media-body ">Grades</span>
                                    </div>
                                </div>
                            </a>
                        </li>
                        <li>
                            <a class="list-group-item list-group-item-action  " href="https://moodle.beloit.edu/course/view.php?id=643#section-0" data-key="10149" data-isexpandable="0" data-indent="0" data-showdivider="0" data-type="30" data-nodetype="1" data-collapse="0" data-forceopen="0" data-isactive="0" data-hidden="0" data-preceedwithhr="0" data-parent-key="643">
                                <div class="ml-0">
                                    <div class="media">
                                            <span class="media-left">
                                                <i class="icon fa fa-folder-o fa-fw " aria-hidden="true"  ></i>
                                            </span>
                                        <span class="media-body ">General</span>
                                    </div>
                                </div>
                            </a>
                        </li>
                        <li>
                            <a class="list-group-item list-group-item-action  " href="https://moodle.beloit.edu/course/view.php?id=643#section-1" data-key="10150" data-isexpandable="0" data-indent="0" data-showdivider="0" data-type="30" data-nodetype="1" data-collapse="0" data-forceopen="0" data-isactive="0" data-hidden="0" data-preceedwithhr="0" data-parent-key="643">
                                <div class="ml-0">
                                    <div class="media">
                                            <span class="media-left">
                                                <i class="icon fa fa-folder-o fa-fw " aria-hidden="true"  ></i>
                                            </span>
                                        <span class="media-body ">January 24 - January 30</span>
                                    </div>
                                </div>
                            </a>
                        </li>
                        <li>
                            <a class="list-group-item list-group-item-action  " href="https://moodle.beloit.edu/course/view.php?id=643#section-2" data-key="10151" data-isexpandable="0" data-indent="0" data-showdivider="0" data-type="30" data-nodetype="1" data-collapse="0" data-forceopen="0" data-isactive="0" data-hidden="0" data-preceedwithhr="0" data-parent-key="643">
                                <div class="ml-0">
                                    <div class="media">
                                            <span class="media-left">
                                                <i class="icon fa fa-folder-o fa-fw " aria-hidden="true"  ></i>
                                            </span>
                                        <span class="media-body ">January 31 - February 6</span>
                                    </div>
                                </div>
                            </a>
                        </li>
                        <li>
                            <a class="list-group-item list-group-item-action  " href="https://moodle.beloit.edu/course/view.php?id=643#section-3" data-key="10152" data-isexpandable="0" data-indent="0" data-showdivider="0" data-type="30" data-nodetype="1" data-collapse="0" data-forceopen="0" data-isactive="0" data-hidden="0" data-preceedwithhr="0" data-parent-key="643">
                                <div class="ml-0">
                                    <div class="media">
                                            <span class="media-left">
                                                <i class="icon fa fa-folder-o fa-fw " aria-hidden="true"  ></i>
                                            </span>
                                        <span class="media-body ">February 7 - February 13</span>
                                    </div>
                                </div>
                            </a>
                        </li>
                        <li>
                            <a class="list-group-item list-group-item-action  " href="https://moodle.beloit.edu/course/view.php?id=643#section-4" data-key="10153" data-isexpandable="0" data-indent="0" data-showdivider="0" data-type="30" data-nodetype="1" data-collapse="0" data-forceopen="0" data-isactive="0" data-hidden="0" data-preceedwithhr="0" data-parent-key="643">
                                <div class="ml-0">
                                    <div class="media">
                                            <span class="media-left">
                                                <i class="icon fa fa-folder-o fa-fw " aria-hidden="true"  ></i>
                                            </span>
                                        <span class="media-body ">February 14 - February 20</span>
                                    </div>
                                </div>
                            </a>
                        </li>
                        <li>
                            <a class="list-group-item list-group-item-action active " href="https://moodle.beloit.edu/course/view.php?id=643#section-5" data-key="10154" data-isexpandable="0" data-indent="0" data-showdivider="0" data-type="30" data-nodetype="1" data-collapse="0" data-forceopen="1" data-isactive="1" data-hidden="0" data-preceedwithhr="0" data-parent-key="643">
                                <div class="ml-0">
                                    <div class="media">
                                            <span class="media-left">
                                                <i class="icon fa fa-folder-o fa-fw " aria-hidden="true"  ></i>
                                            </span>
                                        <span class="media-body font-weight-bold">February 21 - February 27</span>
                                    </div>
                                </div>
                            </a>
                        </li>
                        <li>
                            <a class="list-group-item list-group-item-action  " href="https://moodle.beloit.edu/course/view.php?id=643#section-6" data-key="10155" data-isexpandable="0" data-indent="0" data-showdivider="0" data-type="30" data-nodetype="1" data-collapse="0" data-forceopen="0" data-isactive="0" data-hidden="0" data-preceedwithhr="0" data-parent-key="643">
                                <div class="ml-0">
                                    <div class="media">
                                            <span class="media-left">
                                                <i class="icon fa fa-folder-o fa-fw " aria-hidden="true"  ></i>
                                            </span>
                                        <span class="media-body ">February 28 - March 6</span>
                                    </div>
                                </div>
                            </a>
                        </li>
                        <li>
                            <a class="list-group-item list-group-item-action  " href="https://moodle.beloit.edu/course/view.php?id=643#section-7" data-key="10156" data-isexpandable="0" data-indent="0" data-showdivider="0" data-type="30" data-nodetype="1" data-collapse="0" data-forceopen="0" data-isactive="0" data-hidden="0" data-preceedwithhr="0" data-parent-key="643">
                                <div class="ml-0">
                                    <div class="media">
                                            <span class="media-left">
                                                <i class="icon fa fa-folder-o fa-fw " aria-hidden="true"  ></i>
                                            </span>
                                        <span class="media-body ">March 7 - March 13</span>
                                    </div>
                                </div>
                            </a>
                        </li>
                        <li>
                            <a class="list-group-item list-group-item-action  " href="https://moodle.beloit.edu/course/view.php?id=643#section-8" data-key="10157" data-isexpandable="0" data-indent="0" data-showdivider="0" data-type="30" data-nodetype="1" data-collapse="0" data-forceopen="0" data-isactive="0" data-hidden="0" data-preceedwithhr="0" data-parent-key="643">
                                <div class="ml-0">
                                    <div class="media">
                                            <span class="media-left">
                                                <i class="icon fa fa-folder-o fa-fw " aria-hidden="true"  ></i>
                                            </span>
                                        <span class="media-body ">March 14 - March 20</span>
                                    </div>
                                </div>
                            </a>
                        </li>
                        <li>
                            <a class="list-group-item list-group-item-action  " href="https://moodle.beloit.edu/course/view.php?id=643#section-9" data-key="10158" data-isexpandable="0" data-indent="0" data-showdivider="0" data-type="30" data-nodetype="1" data-collapse="0" data-forceopen="0" data-isactive="0" data-hidden="0" data-preceedwithhr="0" data-parent-key="643">
                                <div class="ml-0">
                                    <div class="media">
                                            <span class="media-left">
                                                <i class="icon fa fa-folder-o fa-fw " aria-hidden="true"  ></i>
                                            </span>
                                        <span class="media-body ">March 21 - March 27</span>
                                    </div>
                                </div>
                            </a>
                        </li>
                        <li>
                            <a class="list-group-item list-group-item-action  " href="https://moodle.beloit.edu/course/view.php?id=643#section-10" data-key="10159" data-isexpandable="0" data-indent="0" data-showdivider="0" data-type="30" data-nodetype="1" data-collapse="0" data-forceopen="0" data-isactive="0" data-hidden="0" data-preceedwithhr="0" data-parent-key="643">
                                <div class="ml-0">
                                    <div class="media">
                                            <span class="media-left">
                                                <i class="icon fa fa-folder-o fa-fw " aria-hidden="true"  ></i>
                                            </span>
                                        <span class="media-body ">March 28 - April 3</span>
                                    </div>
                                </div>
                            </a>
                        </li>
                        <li>
                            <a class="list-group-item list-group-item-action  " href="https://moodle.beloit.edu/course/view.php?id=643#section-11" data-key="10160" data-isexpandable="0" data-indent="0" data-showdivider="0" data-type="30" data-nodetype="1" data-collapse="0" data-forceopen="0" data-isactive="0" data-hidden="0" data-preceedwithhr="0" data-parent-key="643">
                                <div class="ml-0">
                                    <div class="media">
                                            <span class="media-left">
                                                <i class="icon fa fa-folder-o fa-fw " aria-hidden="true"  ></i>
                                            </span>
                                        <span class="media-body ">April 4 - April 10</span>
                                    </div>
                                </div>
                            </a>
                        </li>
                        <li>
                            <a class="list-group-item list-group-item-action  " href="https://moodle.beloit.edu/course/view.php?id=643#section-12" data-key="10161" data-isexpandable="0" data-indent="0" data-showdivider="0" data-type="30" data-nodetype="1" data-collapse="0" data-forceopen="0" data-isactive="0" data-hidden="0" data-preceedwithhr="0" data-parent-key="643">
                                <div class="ml-0">
                                    <div class="media">
                                            <span class="media-left">
                                                <i class="icon fa fa-folder-o fa-fw " aria-hidden="true"  ></i>
                                            </span>
                                        <span class="media-body ">April 11 - April 17</span>
                                    </div>
                                </div>
                            </a>
                        </li>
                        <li>
                            <a class="list-group-item list-group-item-action  " href="https://moodle.beloit.edu/course/view.php?id=643#section-13" data-key="10162" data-isexpandable="0" data-indent="0" data-showdivider="0" data-type="30" data-nodetype="1" data-collapse="0" data-forceopen="0" data-isactive="0" data-hidden="0" data-preceedwithhr="0" data-parent-key="643">
                                <div class="ml-0">
                                    <div class="media">
                                            <span class="media-left">
                                                <i class="icon fa fa-folder-o fa-fw " aria-hidden="true"  ></i>
                                            </span>
                                        <span class="media-body ">April 18 - April 24</span>
                                    </div>
                                </div>
                            </a>
                        </li>
                        <li>
                            <a class="list-group-item list-group-item-action  " href="https://moodle.beloit.edu/course/view.php?id=643#section-14" data-key="10163" data-isexpandable="0" data-indent="0" data-showdivider="0" data-type="30" data-nodetype="1" data-collapse="0" data-forceopen="0" data-isactive="0" data-hidden="0" data-preceedwithhr="0" data-parent-key="643">
                                <div class="ml-0">
                                    <div class="media">
                                            <span class="media-left">
                                                <i class="icon fa fa-folder-o fa-fw " aria-hidden="true"  ></i>
                                            </span>
                                        <span class="media-body ">April 25 - May 1</span>
                                    </div>
                                </div>
                            </a>
                        </li>
                        <li>
                            <a class="list-group-item list-group-item-action  " href="https://moodle.beloit.edu/course/view.php?id=643#section-15" data-key="10164" data-isexpandable="0" data-indent="0" data-showdivider="0" data-type="30" data-nodetype="1" data-collapse="0" data-forceopen="0" data-isactive="0" data-hidden="0" data-preceedwithhr="0" data-parent-key="643">
                                <div class="ml-0">
                                    <div class="media">
                                            <span class="media-left">
                                                <i class="icon fa fa-folder-o fa-fw " aria-hidden="true"  ></i>
                                            </span>
                                        <span class="media-body ">May 2 - May 8</span>
                                    </div>
                                </div>
                            </a>
                        </li>
                        <li>
                            <a class="list-group-item list-group-item-action  " href="https://moodle.beloit.edu/course/view.php?id=643#section-16" data-key="10165" data-isexpandable="0" data-indent="0" data-showdivider="0" data-type="30" data-nodetype="1" data-collapse="0" data-forceopen="0" data-isactive="0" data-hidden="0" data-preceedwithhr="0" data-parent-key="643">
                                <div class="ml-0">
                                    <div class="media">
                                            <span class="media-left">
                                                <i class="icon fa fa-folder-o fa-fw " aria-hidden="true"  ></i>
                                            </span>
                                        <span class="media-body ">May 9 - May 15</span>
                                    </div>
                                </div>
                            </a>
                        </li>
                        </ul>
                        </nav>
                        <nav class="list-group mt-1" aria-label="Site">
                        <ul>
                        <li>
                            <a class="list-group-item list-group-item-action  " href="https://moodle.beloit.edu/my/" data-key="myhome" data-isexpandable="0" data-indent="0" data-showdivider="1" data-type="1" data-nodetype="1" data-collapse="0" data-forceopen="1" data-isactive="0" data-hidden="0" data-preceedwithhr="0" >
                                <div class="ml-0">
                                    <div class="media">
                                            <span class="media-left">
                                                <i class="icon fa fa-tachometer fa-fw " aria-hidden="true"  ></i>
                                            </span>
                                        <span class="media-body ">Dashboard</span>
                                    </div>
                                </div>
                            </a>
                        </li>
                        <li>
                            <a class="list-group-item list-group-item-action  " href="https://moodle.beloit.edu/" data-key="home" data-isexpandable="0" data-indent="0" data-showdivider="0" data-type="70" data-nodetype="0" data-collapse="0" data-forceopen="0" data-isactive="0" data-hidden="0" data-preceedwithhr="0" data-parent-key="myhome">
                                <div class="ml-0">
                                    <div class="media">
                                            <span class="media-left">
                                                <i class="icon fa fa-home fa-fw " aria-hidden="true"  ></i>
                                            </span>
                                        <span class="media-body ">Site home</span>
                                    </div>
                                </div>
                            </a>
                        </li>
                        <li>
                            <a class="list-group-item list-group-item-action  " href="https://moodle.beloit.edu/calendar/view.php?view=month&amp;course=643" data-key="calendar" data-isexpandable="0" data-indent="0" data-showdivider="0" data-type="60" data-nodetype="0" data-collapse="0" data-forceopen="0" data-isactive="0" data-hidden="0" data-preceedwithhr="0" data-parent-key="1">
                                <div class="ml-0">
                                    <div class="media">
                                            <span class="media-left">
                                                <i class="icon fa fa-calendar fa-fw " aria-hidden="true"  ></i>
                                            </span>
                                        <span class="media-body ">Calendar</span>
                                    </div>
                                </div>
                            </a>
                        </li>
                        <li>
                            <a class="list-group-item list-group-item-action  " href="https://moodle.beloit.edu/user/files.php" data-key="privatefiles" data-isexpandable="0" data-indent="0" data-showdivider="0" data-type="70" data-nodetype="0" data-collapse="0" data-forceopen="0" data-isactive="0" data-hidden="0" data-preceedwithhr="0" data-parent-key="1">
                                <div class="ml-0">
                                    <div class="media">
                                            <span class="media-left">
                                                <i class="icon fa fa-file-o fa-fw " aria-hidden="true"  ></i>
                                            </span>
                                        <span class="media-body ">Private files</span>
                                    </div>
                                </div>
                            </a>
                        </li>
                        <li>
                            <a class="list-group-item list-group-item-action  " href="https://moodle.beloit.edu/contentbank/index.php?contextid=34165" data-key="contentbank" data-isexpandable="0" data-indent="0" data-showdivider="0" data-type="60" data-nodetype="0" data-collapse="0" data-forceopen="0" data-isactive="0" data-hidden="0" data-preceedwithhr="0" data-parent-key="1">
                                <div class="ml-0">
                                    <div class="media">
                                            <span class="media-left">
                                                <i class="icon fa fa-paint-brush fa-fw " aria-hidden="true"  ></i>
                                            </span>
                                        <span class="media-body ">Content bank</span>
                                    </div>
                                </div>
                            </a>
                        </li>
                        <li>
                            <div class="list-group-item " data-key="mycourses" data-isexpandable="1" data-indent="0" data-showdivider="0" data-type="0" data-nodetype="1" data-collapse="0" data-forceopen="1" data-isactive="0" data-hidden="0" data-preceedwithhr="0" data-parent-key="myhome">
                                <div class="ml-0">
                                    <div class="media">
                                            <span class="media-left">
                                                <i class="icon fa fa-graduation-cap fa-fw " aria-hidden="true"  ></i>
                                            </span>
                                        <span class="media-body">My courses</span>
                                    </div>
                                </div>
                            </div>
                        </li>
                        <li>
                            <a class="list-group-item list-group-item-action  " href="https://moodle.beloit.edu/course/view.php?id=939" data-key="939" data-isexpandable="1" data-indent="1" data-showdivider="0" data-type="20" data-nodetype="1" data-collapse="0" data-forceopen="0" data-isactive="0" data-hidden="0" data-preceedwithhr="0" data-parent-key="mycourses">
                                <div class="ml-1">
                                    <div class="media">
                                            <span class="media-left">
                                                <i class="icon fa fa-graduation-cap fa-fw " aria-hidden="true"  ></i>
                                            </span>
                                        <span class="media-body ">CSCI 377 01_SP-2021</span>
                                    </div>
                                </div>
                            </a>
                        </li>
                        <li>
                            <a class="list-group-item list-group-item-action  " href="https://moodle.beloit.edu/course/view.php?id=643" data-key="643" data-isexpandable="1" data-indent="1" data-showdivider="0" data-type="20" data-nodetype="1" data-collapse="0" data-forceopen="1" data-isactive="0" data-hidden="0" data-preceedwithhr="0" data-parent-key="mycourses">
                                <div class="ml-1">
                                    <div class="media">
                                            <span class="media-left">
                                                <i class="icon fa fa-graduation-cap fa-fw " aria-hidden="true"  ></i>
                                            </span>
                                        <span class="media-body ">DSDA 345 01_SP-2021</span>
                                    </div>
                                </div>
                            </a>
                        </li>
                        <li>
                            <a class="list-group-item list-group-item-action  " href="https://moodle.beloit.edu/course/view.php?id=903" data-key="903" data-isexpandable="1" data-indent="1" data-showdivider="0" data-type="20" data-nodetype="1" data-collapse="0" data-forceopen="0" data-isactive="0" data-hidden="0" data-preceedwithhr="0" data-parent-key="mycourses">
                                <div class="ml-1">
                                    <div class="media">
                                            <span class="media-left">
                                                <i class="icon fa fa-graduation-cap fa-fw " aria-hidden="true"  ></i>
                                            </span>
                                        <span class="media-body ">MUSI 170 01_SP-2021</span>
                                    </div>
                                </div>
                            </a>
                        </li>
                        <li>
                            <a class="list-group-item list-group-item-action  " href="https://moodle.beloit.edu/course/view.php?id=852" data-key="852" data-isexpandable="1" data-indent="1" data-showdivider="0" data-type="20" data-nodetype="1" data-collapse="0" data-forceopen="0" data-isactive="0" data-hidden="0" data-preceedwithhr="0" data-parent-key="mycourses">
                                <div class="ml-1">
                                    <div class="media">
                                            <span class="media-left">
                                                <i class="icon fa fa-graduation-cap fa-fw " aria-hidden="true"  ></i>
                                            </span>
                                        <span class="media-body ">PHYS 335 01_SP-2021</span>
                                    </div>
                                </div>
                            </a>
                        </li>
                        <li>
                            <a class="list-group-item list-group-item-action  " href="https://moodle.beloit.edu/course/view.php?id=21" data-key="21" data-isexpandable="1" data-indent="1" data-showdivider="0" data-type="20" data-nodetype="1" data-collapse="0" data-forceopen="0" data-isactive="0" data-hidden="0" data-preceedwithhr="0" data-parent-key="mycourses">
                                <div class="ml-1">
                                    <div class="media">
                                            <span class="media-left">
                                                <i class="icon fa fa-graduation-cap fa-fw " aria-hidden="true"  ></i>
                                            </span>
                                        <span class="media-body ">LITS Support Training</span>
                                    </div>
                                </div>
                            </a>
                        </li>
                        <li>
                            <a class="list-group-item list-group-item-action  " href="https://moodle.beloit.edu/course/view.php?id=26" data-key="26" data-isexpandable="1" data-indent="1" data-showdivider="0" data-type="20" data-nodetype="1" data-collapse="0" data-forceopen="0" data-isactive="0" data-hidden="0" data-preceedwithhr="0" data-parent-key="mycourses">
                                <div class="ml-1">
                                    <div class="media">
                                            <span class="media-left">
                                                <i class="icon fa fa-graduation-cap fa-fw " aria-hidden="true"  ></i>
                                            </span>
                                        <span class="media-body ">Learner Orientation - v3.10</span>
                                    </div>
                                </div>
                            </a>
                        </li>
                </ul>
            </nav>
        </div>

        <div class="mt-5 mb-1 activity-navigation container-fluid">
<div class="row">
    <div class="col-md-4">        <div class="float-left">
                <a href="https://moodle.beloit.edu/mod/resource/view.php?id=32585&forceview=1" id="prev-activity-link" class="btn btn-link"  title="Dataset" >&#x25C4; Dataset</a>

        </div>
</div>
    <div class="col-md-4">        <div class="mdl-align">
            <div class="urlselect">
    <form method="post" action="https://moodle.beloit.edu/course/jumpto.php" class="form-inline" id="url_select_f622974bf1ce9234">
        <input type="hidden" name="sesskey" value="L6DVncmyk0">
            <label for="jump-to-activity" class="sr-only">
                Jump to...
            </label>
        <select  id="jump-to-activity" class="custom-select urlselect" name="jump"
                 >
                    <option value="" selected>Jump to...</option>
                    <option value="/mod/forum/view.php?id=19381&amp;forceview=1" >Announcements</option>
                    <option value="/mod/resource/view.php?id=29253&amp;forceview=1" >Course Syllabus</option>
                    <option value="/mod/page/view.php?id=31717&amp;forceview=1" >TA Hours/ Information</option>
                    <option value="/mod/resource/view.php?id=29426&amp;forceview=1" >Slides Week 1_1</option>
                    <option value="/mod/resource/view.php?id=30617&amp;forceview=1" >Slides Week 1_2</option>
                    <option value="/mod/quiz/view.php?id=30886&amp;forceview=1" >Quiz 1</option>
                    <option value="/mod/resource/view.php?id=30968&amp;forceview=1" >Slides Week 2_1</option>
                    <option value="/mod/resource/view.php?id=31372&amp;forceview=1" >Slides Week 2_2</option>
                    <option value="/mod/resource/view.php?id=31634&amp;forceview=1" >Minimum Software Requirements</option>
                    <option value="/mod/folder/view.php?id=31633&amp;forceview=1" >Python Programming Examples</option>
                    <option value="/mod/resource/view.php?id=31635&amp;forceview=1" >Project 1 </option>
                    <option value="/mod/assign/view.php?id=31636&amp;forceview=1" >Homework Assignment 1</option>
                    <option value="/mod/resource/view.php?id=31730&amp;forceview=1" >Slides Week 3_1</option>
                    <option value="/mod/resource/view.php?id=31865&amp;forceview=1" >Slides Week 3_2</option>
                    <option value="/mod/quiz/view.php?id=31796&amp;forceview=1" >Quiz 2</option>
                    <option value="/mod/resource/view.php?id=32108&amp;forceview=1" >Slides Week 4_1</option>
                    <option value="/mod/resource/view.php?id=32203&amp;forceview=1" >Slides Week 4_2</option>
                    <option value="/mod/resource/view.php?id=32462&amp;forceview=1" >Slides Week 5_1</option>
                    <option value="/mod/quiz/view.php?id=32583&amp;forceview=1" >Quiz 3</option>
                    <option value="/mod/resource/view.php?id=32585&amp;forceview=1" >Dataset</option>
                    <option value="/mod/assign/view.php?id=32588&amp;forceview=1" >Homework Assignment 2</option>
                    <option value="/mod/resource/view.php?id=32782&amp;forceview=1" >Slides Week 6_1</option>
                    <option value="/mod/resource/view.php?id=32912&amp;forceview=1" >Slides Week 6_2</option>
                    <option value="/mod/quiz/view.php?id=33129&amp;forceview=1" >Quiz 4</option>
                    <option value="/mod/resource/view.php?id=33089&amp;forceview=1" >HW-1 Sample Solution</option>
                    <option value="/mod/resource/view.php?id=33152&amp;forceview=1" >Quiz 4 sample solution</option>
                    <option value="/mod/resource/view.php?id=33136&amp;forceview=1" >Slides Week 7_1</option>
        </select>
            <noscript>
                <input type="submit" class="btn btn-secondary ml-1" value="Go">
            </noscript>
    </form>
</div>

        </div>
</div>
    <div class="col-md-4">        <div class="float-right">
                <a href="https://moodle.beloit.edu/mod/assign/view.php?id=32588&forceview=1" id="next-activity-link" class="btn btn-link"  title="Homework Assignment 2" >Homework Assignment 2 &#x25BA;</a>

        </div>
</div>
</div>
</div>

    
    <footer id="page-footer" class="py-3 text-dark">
        <div class="container">
    
            <div id="course-footer"></div>
    
            <div class="row">
    
                    <div class="col-md-8">
                        
    
                        <div class="logininfo">You are logged in as <a href="https://moodle.beloit.edu/user/profile.php?id=1250" title="View profile">Bipin Gc</a> (<a href="https://moodle.beloit.edu/login/logout.php?sesskey=L6DVncmyk0">Log out</a>)</div>
    
                        <div class="homelink"><a href="https://moodle.beloit.edu/course/view.php?id=643">DSDA 345 01_SP-2021</a></div>
    
                            <p class="helplink"><a href="https://docs.moodle.org/310/en_us/mod/resource/view"><i class="icon fa fa-info-circle fa-fw iconhelp icon-pre" aria-hidden="true"  ></i>Moodle Docs for this page</a></p>
    
                    </div>
    
                    <div class="col-md-4">
                        <div class="brandbox">
    
                            <h3>Beloit College</h3>
                                <ul class="footercontact">
                                    <li><i class="fa fa-globe"></i>  https://www.beloit.edu/</li>
                                    
                                    
                                </ul>
    
                            <div class="socials_wrapper">
        <ul class="socials">
                    <a href = https://www.facebook.com/BeloitCollege class = "socialicon blog" title = "https://www.facebook.com/BeloitCollege" alt="https://www.facebook.com/BeloitCollege" target="_blank">
                    <span class="fa-stack fa-1x">
                    <i class="fa fa-square fa-stack-2x"></i>
                    <i class="fa fa-facebook fa-inverse fa-stack-1x"></i>
                    </span>
                    <span class="sr-only">https://www.facebook.com/BeloitCollege</span>
                    </a>
                    <a href = https://twitter.com/Beloit_College class = "socialicon blog" title = "https://twitter.com/Beloit_College" alt="https://twitter.com/Beloit_College" target="_blank">
                    <span class="fa-stack fa-1x">
                    <i class="fa fa-square fa-stack-2x"></i>
                    <i class="fa fa-twitter fa-inverse fa-stack-1x"></i>
                    </span>
                    <span class="sr-only">https://twitter.com/Beloit_College</span>
                    </a>
                    <a href = https://www.youtube.com/user/BeloitCollege class = "socialicon blog" title = "https://www.youtube.com/user/BeloitCollege" alt="https://www.youtube.com/user/BeloitCollege" target="_blank">
                    <span class="fa-stack fa-1x">
                    <i class="fa fa-square fa-stack-2x"></i>
                    <i class="fa fa-youtube fa-inverse fa-stack-1x"></i>
                    </span>
                    <span class="sr-only">https://www.youtube.com/user/BeloitCollege</span>
                    </a>
                    <a href = https://www.instagram.com/beloit_college/ class = "socialicon blog" title = "https://www.instagram.com/beloit_college/" alt="https://www.instagram.com/beloit_college/" target="_blank">
                    <span class="fa-stack fa-1x">
                    <i class="fa fa-square fa-stack-2x"></i>
                    <i class="fa fa-instagram fa-inverse fa-stack-1x"></i>
                    </span>
                    <span class="sr-only">https://www.instagram.com/beloit_college/</span>
                    </a>
        </ul>
    </div>
    
                        </div>
                    </div>
    
            </div>
            <nav class="nav navbar-nav d-md-none">
                    <ul class="list-unstyled pt-3">
                    </ul>
            </nav>
            <div class="tool_dataprivacy"><a href="https://moodle.beloit.edu/admin/tool/dataprivacy/summary.php">Data retention summary</a></div><a href="https://www.openlms.net/open-lms-mobile-app/">Get the mobile app</a>
            <script>
//<![CDATA[
var require = {
    baseUrl : 'https://moodle.beloit.edu/lib/requirejs.php/1623178923/',
    // We only support AMD modules with an explicit define() statement.
    enforceDefine: true,
    skipDataMain: true,
    waitSeconds : 0,

    paths: {
        jquery: 'https://moodle.beloit.edu/lib/javascript.php/1623178923/lib/jquery/jquery-3.4.1.min',
        jqueryui: 'https://moodle.beloit.edu/lib/javascript.php/1623178923/lib/jquery/ui-1.12.1/jquery-ui.min',
        jqueryprivate: 'https://moodle.beloit.edu/lib/javascript.php/1623178923/lib/requirejs/jquery-private'
    },

    // Custom jquery config map.
    map: {
      // '*' means all modules will get 'jqueryprivate'
      // for their 'jquery' dependency.
      '*': { jquery: 'jqueryprivate' },
      // Stub module for 'process'. This is a workaround for a bug in MathJax (see MDL-60458).
      '*': { process: 'core/first' },

      // 'jquery-private' wants the real jQuery module
      // though. If this line was not here, there would
      // be an unresolvable cyclic dependency.
      jqueryprivate: { jquery: 'jquery' }
    }
};

//]]>
</script>
<script src="https://moodle.beloit.edu/lib/javascript.php/1623178923/lib/requirejs/require.min.js"></script>
<script>
//<![CDATA[
M.util.js_pending("core/first");require(['core/first'], function() {
require(['core/prefetch']);
;
require(["media_videojs/loader"], function(loader) {
    loader.setUp('en');
});;
function legacy_activity_onclick_handler_1(e) { e.halt(); window.open('https://moodle.beloit.edu/mod/resource/view.php?id=32462&redirect=1'); return false; };
function legacy_activity_onclick_handler_2(e) { e.halt(); window.open('https://moodle.beloit.edu/mod/resource/view.php?id=32585&redirect=1'); return false; };
function legacy_activity_onclick_handler_3(e) { e.halt(); window.open('https://moodle.beloit.edu/mod/resource/view.php?id=32586&redirect=1'); return false; };

require(['jquery', 'message_popup/notification_popover_controller'], function($, controller) {
    var container = $('#nav-notification-popover-container');
    var controller = new controller(container);
    controller.registerEventListeners();
    controller.registerListNavigationEventListeners();
});
;

require(
[
    'jquery',
    'core_message/message_popover'
],
function(
    $,
    Popover
) {
    var toggle = $('#message-drawer-toggle-622974bf252ed622974bf1ce9213');
    Popover.init(toggle);
});
;

require(['jquery', 'core_message/message_drawer'], function($, MessageDrawer) {
    var root = $('#message-drawer-622974bf2c39a622974bf1ce9233');
    MessageDrawer.init(root, '622974bf2c39a622974bf1ce9233', false);
});
;

        require(['jquery', 'core/custom_interaction_events'], function($, CustomEvents) {
            CustomEvents.define('#jump-to-activity', [CustomEvents.events.accessibleChange]);
            $('#jump-to-activity').on(CustomEvents.events.accessibleChange, function() {
                if (!$(this).val()) {
                    return false;
                }
                $('#url_select_f622974bf1ce9234').submit();
            });
        });
    ;

require(['theme_boost/loader']);
require(['jquery','theme_boost/bootstrap/tooltip'], function($){$('[data-tooltip="tooltip"]').tooltip()});
require(['theme_boost/drawer'], function(mod) {
    mod.init();
});
;
M.util.js_pending('core/notification'); require(['core/notification'], function(amd) {amd.init(48847, []); M.util.js_complete('core/notification');});;
M.util.js_pending('core/log'); require(['core/log'], function(amd) {amd.setConfig({"level":"warn"}); M.util.js_complete('core/log');});;
M.util.js_pending('core/page_global'); require(['core/page_global'], function(amd) {amd.init(); M.util.js_complete('core/page_global');});M.util.js_complete("core/first");
});
//]]>
</script>
<script src="https://moodle.beloit.edu/lib/javascript.php/1623178923/theme/fordson/javascript/scrolltotop.js"></script>
<script src="https://moodle.beloit.edu/lib/javascript.php/1623178923/theme/fordson/javascript/scrollspy.js"></script>
<script src="https://moodle.beloit.edu/lib/javascript.php/1623178923/theme/fordson/javascript/blockslider.js"></script>
<script src="https://moodle.beloit.edu/lib/javascript.php/1623178923/theme/fordson/javascript/courseblock.js"></script>
<script>
//<![CDATA[
M.str = {"moodle":{"lastmodified":"Last modified","name":"Name","error":"Error","info":"Information","yes":"Yes","no":"No","cancel":"Cancel","confirm":"Confirm","areyousure":"Are you sure?","closebuttontitle":"Close","unknownerror":"Unknown error","file":"File","url":"URL"},"repository":{"type":"Type","size":"Size","invalidjson":"Invalid JSON string","nofilesattached":"No files attached","filepicker":"File picker","logout":"Logout","nofilesavailable":"No files available","norepositoriesavailable":"Sorry, none of your current repositories can return files in the required format.","fileexistsdialogheader":"File exists","fileexistsdialog_editor":"A file with that name has already been attached to the text you are editing.","fileexistsdialog_filemanager":"A file with that name has already been attached","renameto":"Rename to \"{$a}\"","referencesexist":"There are {$a} alias\/shortcut files that use this file as their source","select":"Select"},"admin":{"confirmdeletecomments":"You are about to delete comments, are you sure?","confirmation":"Confirmation"},"debug":{"debuginfo":"Debug info","line":"Line","stacktrace":"Stack trace"},"langconfig":{"labelsep":":"}};
//]]>
</script>
<script>
//<![CDATA[
(function() {Y.use("moodle-filter_mathjaxloader-loader",function() {M.filter_mathjaxloader.configure({"mathjaxconfig":"\nMathJax.Hub.Config({\n    config: [\"Accessible.js\", \"Safe.js\"],\n    errorSettings: { message: [\"!\"] },\n    skipStartupTypeset: true,\n    messageStyle: \"none\"\n});\n","lang":"en"});
});
M.util.help_popups.setup(Y);
 M.util.js_pending('random622974bf1ce9235'); Y.on('domready', function() { M.util.js_complete("init");  M.util.js_complete('random622974bf1ce9235'); });
})();
//]]>
</script>

    
        </div>
    
    </footer>

</div>

<a href="#" id="back-to-top" class="btn btn-primary btn-lg" role="button" title="Back to Top and Scrollspy"><i class="fa fa-chevron-circle-up" aria-hidden="true"></i></a>

</body>
</html>